{
 "cells": [
  {
   "cell_type": "code",
   "execution_count": 54,
   "source": [
    "import pandas as pd"
   ],
   "outputs": [],
   "metadata": {}
  },
  {
   "cell_type": "code",
   "execution_count": 55,
   "source": [
    "df=pd.read_csv(\"data sets/hepatitis.csv\")\r\n",
    "df"
   ],
   "outputs": [
    {
     "output_type": "execute_result",
     "data": {
      "text/html": [
       "<div>\n",
       "<style scoped>\n",
       "    .dataframe tbody tr th:only-of-type {\n",
       "        vertical-align: middle;\n",
       "    }\n",
       "\n",
       "    .dataframe tbody tr th {\n",
       "        vertical-align: top;\n",
       "    }\n",
       "\n",
       "    .dataframe thead th {\n",
       "        text-align: right;\n",
       "    }\n",
       "</style>\n",
       "<table border=\"1\" class=\"dataframe\">\n",
       "  <thead>\n",
       "    <tr style=\"text-align: right;\">\n",
       "      <th></th>\n",
       "      <th>age</th>\n",
       "      <th>sex</th>\n",
       "      <th>steroid</th>\n",
       "      <th>antivirals</th>\n",
       "      <th>fatigue</th>\n",
       "      <th>malaise</th>\n",
       "      <th>anorexia</th>\n",
       "      <th>liver_big</th>\n",
       "      <th>liver_firm</th>\n",
       "      <th>spleen_palpable</th>\n",
       "      <th>spiders</th>\n",
       "      <th>ascites</th>\n",
       "      <th>varices</th>\n",
       "      <th>bilirubin</th>\n",
       "      <th>alk_phosphate</th>\n",
       "      <th>sgot</th>\n",
       "      <th>albumin</th>\n",
       "      <th>protime</th>\n",
       "      <th>histology</th>\n",
       "      <th>class</th>\n",
       "    </tr>\n",
       "  </thead>\n",
       "  <tbody>\n",
       "    <tr>\n",
       "      <th>0</th>\n",
       "      <td>30</td>\n",
       "      <td>male</td>\n",
       "      <td>False</td>\n",
       "      <td>False</td>\n",
       "      <td>False</td>\n",
       "      <td>False</td>\n",
       "      <td>False</td>\n",
       "      <td>False</td>\n",
       "      <td>False</td>\n",
       "      <td>False</td>\n",
       "      <td>False</td>\n",
       "      <td>False</td>\n",
       "      <td>False</td>\n",
       "      <td>1.0</td>\n",
       "      <td>85.0</td>\n",
       "      <td>18.0</td>\n",
       "      <td>4.0</td>\n",
       "      <td>NaN</td>\n",
       "      <td>False</td>\n",
       "      <td>live</td>\n",
       "    </tr>\n",
       "    <tr>\n",
       "      <th>1</th>\n",
       "      <td>50</td>\n",
       "      <td>female</td>\n",
       "      <td>False</td>\n",
       "      <td>False</td>\n",
       "      <td>True</td>\n",
       "      <td>False</td>\n",
       "      <td>False</td>\n",
       "      <td>False</td>\n",
       "      <td>False</td>\n",
       "      <td>False</td>\n",
       "      <td>False</td>\n",
       "      <td>False</td>\n",
       "      <td>False</td>\n",
       "      <td>0.9</td>\n",
       "      <td>135.0</td>\n",
       "      <td>42.0</td>\n",
       "      <td>3.5</td>\n",
       "      <td>NaN</td>\n",
       "      <td>False</td>\n",
       "      <td>live</td>\n",
       "    </tr>\n",
       "    <tr>\n",
       "      <th>2</th>\n",
       "      <td>78</td>\n",
       "      <td>female</td>\n",
       "      <td>True</td>\n",
       "      <td>False</td>\n",
       "      <td>True</td>\n",
       "      <td>False</td>\n",
       "      <td>False</td>\n",
       "      <td>True</td>\n",
       "      <td>False</td>\n",
       "      <td>False</td>\n",
       "      <td>False</td>\n",
       "      <td>False</td>\n",
       "      <td>False</td>\n",
       "      <td>0.7</td>\n",
       "      <td>96.0</td>\n",
       "      <td>32.0</td>\n",
       "      <td>4.0</td>\n",
       "      <td>NaN</td>\n",
       "      <td>False</td>\n",
       "      <td>live</td>\n",
       "    </tr>\n",
       "    <tr>\n",
       "      <th>3</th>\n",
       "      <td>31</td>\n",
       "      <td>female</td>\n",
       "      <td>NaN</td>\n",
       "      <td>True</td>\n",
       "      <td>False</td>\n",
       "      <td>False</td>\n",
       "      <td>False</td>\n",
       "      <td>True</td>\n",
       "      <td>False</td>\n",
       "      <td>False</td>\n",
       "      <td>False</td>\n",
       "      <td>False</td>\n",
       "      <td>False</td>\n",
       "      <td>0.7</td>\n",
       "      <td>46.0</td>\n",
       "      <td>52.0</td>\n",
       "      <td>4.0</td>\n",
       "      <td>80.0</td>\n",
       "      <td>False</td>\n",
       "      <td>live</td>\n",
       "    </tr>\n",
       "    <tr>\n",
       "      <th>4</th>\n",
       "      <td>34</td>\n",
       "      <td>female</td>\n",
       "      <td>True</td>\n",
       "      <td>False</td>\n",
       "      <td>False</td>\n",
       "      <td>False</td>\n",
       "      <td>False</td>\n",
       "      <td>True</td>\n",
       "      <td>False</td>\n",
       "      <td>False</td>\n",
       "      <td>False</td>\n",
       "      <td>False</td>\n",
       "      <td>False</td>\n",
       "      <td>1.0</td>\n",
       "      <td>NaN</td>\n",
       "      <td>200.0</td>\n",
       "      <td>4.0</td>\n",
       "      <td>NaN</td>\n",
       "      <td>False</td>\n",
       "      <td>live</td>\n",
       "    </tr>\n",
       "    <tr>\n",
       "      <th>...</th>\n",
       "      <td>...</td>\n",
       "      <td>...</td>\n",
       "      <td>...</td>\n",
       "      <td>...</td>\n",
       "      <td>...</td>\n",
       "      <td>...</td>\n",
       "      <td>...</td>\n",
       "      <td>...</td>\n",
       "      <td>...</td>\n",
       "      <td>...</td>\n",
       "      <td>...</td>\n",
       "      <td>...</td>\n",
       "      <td>...</td>\n",
       "      <td>...</td>\n",
       "      <td>...</td>\n",
       "      <td>...</td>\n",
       "      <td>...</td>\n",
       "      <td>...</td>\n",
       "      <td>...</td>\n",
       "      <td>...</td>\n",
       "    </tr>\n",
       "    <tr>\n",
       "      <th>150</th>\n",
       "      <td>46</td>\n",
       "      <td>female</td>\n",
       "      <td>True</td>\n",
       "      <td>False</td>\n",
       "      <td>True</td>\n",
       "      <td>True</td>\n",
       "      <td>True</td>\n",
       "      <td>True</td>\n",
       "      <td>False</td>\n",
       "      <td>False</td>\n",
       "      <td>True</td>\n",
       "      <td>True</td>\n",
       "      <td>True</td>\n",
       "      <td>7.6</td>\n",
       "      <td>NaN</td>\n",
       "      <td>242.0</td>\n",
       "      <td>3.3</td>\n",
       "      <td>50.0</td>\n",
       "      <td>True</td>\n",
       "      <td>die</td>\n",
       "    </tr>\n",
       "    <tr>\n",
       "      <th>151</th>\n",
       "      <td>44</td>\n",
       "      <td>female</td>\n",
       "      <td>True</td>\n",
       "      <td>False</td>\n",
       "      <td>True</td>\n",
       "      <td>False</td>\n",
       "      <td>False</td>\n",
       "      <td>True</td>\n",
       "      <td>True</td>\n",
       "      <td>False</td>\n",
       "      <td>False</td>\n",
       "      <td>False</td>\n",
       "      <td>False</td>\n",
       "      <td>0.9</td>\n",
       "      <td>126.0</td>\n",
       "      <td>142.0</td>\n",
       "      <td>4.3</td>\n",
       "      <td>NaN</td>\n",
       "      <td>True</td>\n",
       "      <td>live</td>\n",
       "    </tr>\n",
       "    <tr>\n",
       "      <th>152</th>\n",
       "      <td>61</td>\n",
       "      <td>female</td>\n",
       "      <td>False</td>\n",
       "      <td>False</td>\n",
       "      <td>True</td>\n",
       "      <td>True</td>\n",
       "      <td>False</td>\n",
       "      <td>False</td>\n",
       "      <td>True</td>\n",
       "      <td>False</td>\n",
       "      <td>True</td>\n",
       "      <td>False</td>\n",
       "      <td>False</td>\n",
       "      <td>0.8</td>\n",
       "      <td>75.0</td>\n",
       "      <td>20.0</td>\n",
       "      <td>4.1</td>\n",
       "      <td>NaN</td>\n",
       "      <td>True</td>\n",
       "      <td>live</td>\n",
       "    </tr>\n",
       "    <tr>\n",
       "      <th>153</th>\n",
       "      <td>53</td>\n",
       "      <td>male</td>\n",
       "      <td>False</td>\n",
       "      <td>False</td>\n",
       "      <td>True</td>\n",
       "      <td>False</td>\n",
       "      <td>False</td>\n",
       "      <td>True</td>\n",
       "      <td>False</td>\n",
       "      <td>True</td>\n",
       "      <td>True</td>\n",
       "      <td>False</td>\n",
       "      <td>True</td>\n",
       "      <td>1.5</td>\n",
       "      <td>81.0</td>\n",
       "      <td>19.0</td>\n",
       "      <td>4.1</td>\n",
       "      <td>48.0</td>\n",
       "      <td>True</td>\n",
       "      <td>live</td>\n",
       "    </tr>\n",
       "    <tr>\n",
       "      <th>154</th>\n",
       "      <td>43</td>\n",
       "      <td>female</td>\n",
       "      <td>True</td>\n",
       "      <td>False</td>\n",
       "      <td>True</td>\n",
       "      <td>False</td>\n",
       "      <td>False</td>\n",
       "      <td>True</td>\n",
       "      <td>False</td>\n",
       "      <td>True</td>\n",
       "      <td>True</td>\n",
       "      <td>True</td>\n",
       "      <td>False</td>\n",
       "      <td>1.2</td>\n",
       "      <td>100.0</td>\n",
       "      <td>19.0</td>\n",
       "      <td>3.1</td>\n",
       "      <td>42.0</td>\n",
       "      <td>True</td>\n",
       "      <td>die</td>\n",
       "    </tr>\n",
       "  </tbody>\n",
       "</table>\n",
       "<p>155 rows × 20 columns</p>\n",
       "</div>"
      ],
      "text/plain": [
       "     age     sex steroid  antivirals fatigue malaise anorexia liver_big  \\\n",
       "0     30    male   False       False   False   False    False     False   \n",
       "1     50  female   False       False    True   False    False     False   \n",
       "2     78  female    True       False    True   False    False      True   \n",
       "3     31  female     NaN        True   False   False    False      True   \n",
       "4     34  female    True       False   False   False    False      True   \n",
       "..   ...     ...     ...         ...     ...     ...      ...       ...   \n",
       "150   46  female    True       False    True    True     True      True   \n",
       "151   44  female    True       False    True   False    False      True   \n",
       "152   61  female   False       False    True    True    False     False   \n",
       "153   53    male   False       False    True   False    False      True   \n",
       "154   43  female    True       False    True   False    False      True   \n",
       "\n",
       "    liver_firm spleen_palpable spiders ascites varices  bilirubin  \\\n",
       "0        False           False   False   False   False        1.0   \n",
       "1        False           False   False   False   False        0.9   \n",
       "2        False           False   False   False   False        0.7   \n",
       "3        False           False   False   False   False        0.7   \n",
       "4        False           False   False   False   False        1.0   \n",
       "..         ...             ...     ...     ...     ...        ...   \n",
       "150      False           False    True    True    True        7.6   \n",
       "151       True           False   False   False   False        0.9   \n",
       "152       True           False    True   False   False        0.8   \n",
       "153      False            True    True   False    True        1.5   \n",
       "154      False            True    True    True   False        1.2   \n",
       "\n",
       "     alk_phosphate   sgot  albumin  protime  histology class  \n",
       "0             85.0   18.0      4.0      NaN      False  live  \n",
       "1            135.0   42.0      3.5      NaN      False  live  \n",
       "2             96.0   32.0      4.0      NaN      False  live  \n",
       "3             46.0   52.0      4.0     80.0      False  live  \n",
       "4              NaN  200.0      4.0      NaN      False  live  \n",
       "..             ...    ...      ...      ...        ...   ...  \n",
       "150            NaN  242.0      3.3     50.0       True   die  \n",
       "151          126.0  142.0      4.3      NaN       True  live  \n",
       "152           75.0   20.0      4.1      NaN       True  live  \n",
       "153           81.0   19.0      4.1     48.0       True  live  \n",
       "154          100.0   19.0      3.1     42.0       True   die  \n",
       "\n",
       "[155 rows x 20 columns]"
      ]
     },
     "metadata": {},
     "execution_count": 55
    }
   ],
   "metadata": {
    "execution": {
     "iopub.execute_input": "2021-09-08T16:47:20.862355Z",
     "iopub.status.busy": "2021-09-08T16:47:20.861477Z",
     "iopub.status.idle": "2021-09-08T16:47:21.073289Z",
     "shell.execute_reply": "2021-09-08T16:47:21.073894Z",
     "shell.execute_reply.started": "2021-09-08T16:43:01.141430Z"
    },
    "papermill": {
     "duration": 0.239609,
     "end_time": "2021-09-08T16:47:21.074127",
     "exception": false,
     "start_time": "2021-09-08T16:47:20.834518",
     "status": "completed"
    },
    "tags": []
   }
  },
  {
   "cell_type": "code",
   "execution_count": 56,
   "source": [
    "df.drop(\"protime\",axis=1,inplace=True)"
   ],
   "outputs": [],
   "metadata": {
    "execution": {
     "iopub.execute_input": "2021-09-08T16:47:21.211531Z",
     "iopub.status.busy": "2021-09-08T16:47:21.210536Z",
     "iopub.status.idle": "2021-09-08T16:47:21.217820Z",
     "shell.execute_reply": "2021-09-08T16:47:21.218358Z",
     "shell.execute_reply.started": "2021-09-08T16:43:01.203685Z"
    },
    "papermill": {
     "duration": 0.03426,
     "end_time": "2021-09-08T16:47:21.218571",
     "exception": false,
     "start_time": "2021-09-08T16:47:21.184311",
     "status": "completed"
    },
    "tags": []
   }
  },
  {
   "cell_type": "code",
   "execution_count": 57,
   "source": [
    "cat=df.select_dtypes(include=\"object\").columns\r\n",
    "cat"
   ],
   "outputs": [
    {
     "output_type": "execute_result",
     "data": {
      "text/plain": [
       "Index(['sex', 'steroid', 'fatigue', 'malaise', 'anorexia', 'liver_big',\n",
       "       'liver_firm', 'spleen_palpable', 'spiders', 'ascites', 'varices',\n",
       "       'class'],\n",
       "      dtype='object')"
      ]
     },
     "metadata": {},
     "execution_count": 57
    }
   ],
   "metadata": {
    "execution": {
     "iopub.execute_input": "2021-09-08T16:47:21.269753Z",
     "iopub.status.busy": "2021-09-08T16:47:21.268735Z",
     "iopub.status.idle": "2021-09-08T16:47:21.279331Z",
     "shell.execute_reply": "2021-09-08T16:47:21.279808Z",
     "shell.execute_reply.started": "2021-09-08T16:43:01.225403Z"
    },
    "papermill": {
     "duration": 0.037861,
     "end_time": "2021-09-08T16:47:21.280022",
     "exception": false,
     "start_time": "2021-09-08T16:47:21.242161",
     "status": "completed"
    },
    "tags": []
   }
  },
  {
   "cell_type": "code",
   "execution_count": 58,
   "source": [
    "df[\"steroid\"]=df[\"steroid\"].fillna(df[\"steroid\"].mode()[0])\r\n",
    "df[\"fatigue\"]=df[\"fatigue\"].fillna(df[\"fatigue\"].mode()[0])\r\n",
    "df[\"malaise\"]=df[\"malaise\"].fillna(df[\"malaise\"].mode()[0])\r\n",
    "df[\"anorexia\"]=df[\"anorexia\"].fillna(df[\"anorexia\"].mode()[0])\r\n",
    "df[\"liver_big\"]=df[\"liver_big\"].fillna(df[\"liver_big\"].mode()[0])\r\n",
    "df[\"liver_firm\"]=df[\"liver_firm\"].fillna(df[\"liver_firm\"].mode()[0])\r\n",
    "df[\"spleen_palpable\"]=df[\"spleen_palpable\"].fillna(df[\"spleen_palpable\"].mode()[0])\r\n",
    "df[\"spiders\"]=df[\"spiders\"].fillna(df[\"spiders\"].mode()[0])\r\n",
    "df[\"ascites\"]=df[\"ascites\"].fillna(df[\"ascites\"].mode()[0])\r\n",
    "df[\"varices\"]=df[\"varices\"].fillna(df[\"varices\"].mode()[0])\r\n"
   ],
   "outputs": [],
   "metadata": {
    "execution": {
     "iopub.execute_input": "2021-09-08T16:47:21.346129Z",
     "iopub.status.busy": "2021-09-08T16:47:21.345417Z",
     "iopub.status.idle": "2021-09-08T16:47:21.348532Z",
     "shell.execute_reply": "2021-09-08T16:47:21.347871Z",
     "shell.execute_reply.started": "2021-09-08T16:43:01.242718Z"
    },
    "papermill": {
     "duration": 0.045171,
     "end_time": "2021-09-08T16:47:21.348695",
     "exception": false,
     "start_time": "2021-09-08T16:47:21.303524",
     "status": "completed"
    },
    "tags": []
   }
  },
  {
   "cell_type": "code",
   "execution_count": 59,
   "source": [
    "num=df.select_dtypes(exclude=\"object\").columns\r\n",
    "num"
   ],
   "outputs": [
    {
     "output_type": "execute_result",
     "data": {
      "text/plain": [
       "Index(['age', 'steroid', 'antivirals', 'fatigue', 'malaise', 'anorexia',\n",
       "       'liver_big', 'liver_firm', 'spleen_palpable', 'spiders', 'ascites',\n",
       "       'varices', 'bilirubin', 'alk_phosphate', 'sgot', 'albumin',\n",
       "       'histology'],\n",
       "      dtype='object')"
      ]
     },
     "metadata": {},
     "execution_count": 59
    }
   ],
   "metadata": {
    "execution": {
     "iopub.execute_input": "2021-09-08T16:47:21.404590Z",
     "iopub.status.busy": "2021-09-08T16:47:21.402291Z",
     "iopub.status.idle": "2021-09-08T16:47:21.409338Z",
     "shell.execute_reply": "2021-09-08T16:47:21.408759Z",
     "shell.execute_reply.started": "2021-09-08T16:43:01.266901Z"
    },
    "papermill": {
     "duration": 0.036421,
     "end_time": "2021-09-08T16:47:21.409500",
     "exception": false,
     "start_time": "2021-09-08T16:47:21.373079",
     "status": "completed"
    },
    "tags": []
   }
  },
  {
   "cell_type": "code",
   "execution_count": 60,
   "source": [
    "df[\"bilirubin\"]=df[\"bilirubin\"].fillna(df[\"bilirubin\"].mean())\r\n",
    "df[\"alk_phosphate\"]=df[\"alk_phosphate\"].fillna(df[\"alk_phosphate\"].median())\r\n",
    "df[\"sgot\"]=df[\"sgot\"].fillna(df[\"sgot\"].median())\r\n",
    "df[\"albumin\"]=df[\"albumin\"].fillna(df[\"albumin\"].mean())"
   ],
   "outputs": [],
   "metadata": {
    "execution": {
     "iopub.execute_input": "2021-09-08T16:47:21.467570Z",
     "iopub.status.busy": "2021-09-08T16:47:21.466477Z",
     "iopub.status.idle": "2021-09-08T16:47:21.469729Z",
     "shell.execute_reply": "2021-09-08T16:47:21.469191Z",
     "shell.execute_reply.started": "2021-09-08T16:43:01.285324Z"
    },
    "papermill": {
     "duration": 0.036432,
     "end_time": "2021-09-08T16:47:21.469879",
     "exception": false,
     "start_time": "2021-09-08T16:47:21.433447",
     "status": "completed"
    },
    "tags": []
   }
  },
  {
   "cell_type": "code",
   "execution_count": 61,
   "source": [
    "from sklearn.preprocessing import LabelEncoder\r\n",
    "\r\n",
    "le = LabelEncoder()\r\n",
    "\r\n",
    "for col in cat:\r\n",
    "    df[col] = le.fit_transform(df[col])"
   ],
   "outputs": [],
   "metadata": {
    "execution": {
     "iopub.execute_input": "2021-09-08T16:47:21.523246Z",
     "iopub.status.busy": "2021-09-08T16:47:21.522462Z",
     "iopub.status.idle": "2021-09-08T16:47:22.415905Z",
     "shell.execute_reply": "2021-09-08T16:47:22.415256Z",
     "shell.execute_reply.started": "2021-09-08T16:43:01.305031Z"
    },
    "papermill": {
     "duration": 0.922154,
     "end_time": "2021-09-08T16:47:22.416091",
     "exception": false,
     "start_time": "2021-09-08T16:47:21.493937",
     "status": "completed"
    },
    "tags": []
   }
  },
  {
   "cell_type": "code",
   "execution_count": 62,
   "source": [
    "X=df.drop(\"class\",axis=1)\r\n",
    "y=df[\"class\"]"
   ],
   "outputs": [],
   "metadata": {
    "execution": {
     "iopub.execute_input": "2021-09-08T16:47:22.472294Z",
     "iopub.status.busy": "2021-09-08T16:47:22.471565Z",
     "iopub.status.idle": "2021-09-08T16:47:22.473844Z",
     "shell.execute_reply": "2021-09-08T16:47:22.474375Z",
     "shell.execute_reply.started": "2021-09-08T16:43:01.322925Z"
    },
    "papermill": {
     "duration": 0.034019,
     "end_time": "2021-09-08T16:47:22.474569",
     "exception": false,
     "start_time": "2021-09-08T16:47:22.440550",
     "status": "completed"
    },
    "tags": []
   }
  },
  {
   "cell_type": "markdown",
   "source": [
    "## our data is imbalance let's handle it first:"
   ],
   "metadata": {
    "papermill": {
     "duration": 0.023758,
     "end_time": "2021-09-08T16:47:22.522324",
     "exception": false,
     "start_time": "2021-09-08T16:47:22.498566",
     "status": "completed"
    },
    "tags": []
   }
  },
  {
   "cell_type": "code",
   "execution_count": 63,
   "source": [
    "from imblearn.over_sampling import RandomOverSampler\r\n",
    "os=RandomOverSampler()"
   ],
   "outputs": [],
   "metadata": {
    "execution": {
     "iopub.execute_input": "2021-09-08T16:47:22.576733Z",
     "iopub.status.busy": "2021-09-08T16:47:22.576039Z",
     "iopub.status.idle": "2021-09-08T16:47:22.960353Z",
     "shell.execute_reply": "2021-09-08T16:47:22.959621Z",
     "shell.execute_reply.started": "2021-09-08T16:43:01.340590Z"
    },
    "papermill": {
     "duration": 0.41246,
     "end_time": "2021-09-08T16:47:22.960515",
     "exception": false,
     "start_time": "2021-09-08T16:47:22.548055",
     "status": "completed"
    },
    "tags": []
   }
  },
  {
   "cell_type": "code",
   "execution_count": 64,
   "source": [
    "X,y=os.fit_resample(X,y)"
   ],
   "outputs": [],
   "metadata": {
    "execution": {
     "iopub.execute_input": "2021-09-08T16:47:23.018188Z",
     "iopub.status.busy": "2021-09-08T16:47:23.016248Z",
     "iopub.status.idle": "2021-09-08T16:47:23.027712Z",
     "shell.execute_reply": "2021-09-08T16:47:23.027061Z",
     "shell.execute_reply.started": "2021-09-08T16:43:01.354147Z"
    },
    "papermill": {
     "duration": 0.043452,
     "end_time": "2021-09-08T16:47:23.027857",
     "exception": false,
     "start_time": "2021-09-08T16:47:22.984405",
     "status": "completed"
    },
    "tags": []
   }
  },
  {
   "cell_type": "code",
   "execution_count": 65,
   "source": [
    "df1=pd.concat([X,y],axis=1)"
   ],
   "outputs": [],
   "metadata": {
    "execution": {
     "iopub.execute_input": "2021-09-08T16:47:23.082962Z",
     "iopub.status.busy": "2021-09-08T16:47:23.082318Z",
     "iopub.status.idle": "2021-09-08T16:47:23.085738Z",
     "shell.execute_reply": "2021-09-08T16:47:23.085123Z",
     "shell.execute_reply.started": "2021-09-08T16:43:01.380083Z"
    },
    "papermill": {
     "duration": 0.034126,
     "end_time": "2021-09-08T16:47:23.085901",
     "exception": false,
     "start_time": "2021-09-08T16:47:23.051775",
     "status": "completed"
    },
    "tags": []
   }
  },
  {
   "cell_type": "code",
   "execution_count": 66,
   "source": [
    "X=df.drop(\"class\",axis=1)\r\n",
    "y=df[\"class\"]"
   ],
   "outputs": [],
   "metadata": {}
  },
  {
   "cell_type": "markdown",
   "source": [
    "## feature selection"
   ],
   "metadata": {
    "papermill": {
     "duration": 0.024508,
     "end_time": "2021-09-08T16:47:23.572551",
     "exception": false,
     "start_time": "2021-09-08T16:47:23.548043",
     "status": "completed"
    },
    "tags": []
   }
  },
  {
   "cell_type": "code",
   "execution_count": 67,
   "source": [
    "from sklearn.model_selection import train_test_split\r\n",
    "X_train,X_test,y_train,y_test=train_test_split(X,y,random_state=0,test_size=0.2)"
   ],
   "outputs": [],
   "metadata": {}
  },
  {
   "cell_type": "code",
   "execution_count": 68,
   "source": [
    "from sklearn.feature_selection import mutual_info_classif\r\n",
    "mutual_info=mutual_info_classif(X_train,y_train)\r\n",
    "mutual_info"
   ],
   "outputs": [
    {
     "output_type": "execute_result",
     "data": {
      "text/plain": [
       "array([0.04205459, 0.00188686, 0.04553683, 0.0308284 , 0.10830562,\n",
       "       0.0240159 , 0.06604574, 0.08013447, 0.        , 0.0124923 ,\n",
       "       0.05350339, 0.10433626, 0.        , 0.09092582, 0.01433546,\n",
       "       0.        , 0.15924799, 0.08941253])"
      ]
     },
     "metadata": {},
     "execution_count": 68
    }
   ],
   "metadata": {
    "execution": {
     "iopub.execute_input": "2021-09-08T16:47:23.627077Z",
     "iopub.status.busy": "2021-09-08T16:47:23.626262Z",
     "iopub.status.idle": "2021-09-08T16:47:23.715359Z",
     "shell.execute_reply": "2021-09-08T16:47:23.714840Z",
     "shell.execute_reply.started": "2021-09-08T16:44:15.582923Z"
    },
    "papermill": {
     "duration": 0.118171,
     "end_time": "2021-09-08T16:47:23.715503",
     "exception": false,
     "start_time": "2021-09-08T16:47:23.597332",
     "status": "completed"
    },
    "tags": []
   }
  },
  {
   "cell_type": "code",
   "execution_count": 69,
   "source": [
    "mutual_info=pd.Series(mutual_info)\r\n",
    "mutual_info.index=X_train.columns\r\n",
    "mutual_info.sort_values(ascending=False)"
   ],
   "outputs": [
    {
     "output_type": "execute_result",
     "data": {
      "text/plain": [
       "albumin            0.159248\n",
       "fatigue            0.108306\n",
       "ascites            0.104336\n",
       "bilirubin          0.090926\n",
       "histology          0.089413\n",
       "liver_big          0.080134\n",
       "anorexia           0.066046\n",
       "spiders            0.053503\n",
       "steroid            0.045537\n",
       "age                0.042055\n",
       "antivirals         0.030828\n",
       "malaise            0.024016\n",
       "alk_phosphate      0.014335\n",
       "spleen_palpable    0.012492\n",
       "sex                0.001887\n",
       "liver_firm         0.000000\n",
       "varices            0.000000\n",
       "sgot               0.000000\n",
       "dtype: float64"
      ]
     },
     "metadata": {},
     "execution_count": 69
    }
   ],
   "metadata": {
    "execution": {
     "iopub.execute_input": "2021-09-08T16:47:23.774296Z",
     "iopub.status.busy": "2021-09-08T16:47:23.773475Z",
     "iopub.status.idle": "2021-09-08T16:47:23.778217Z",
     "shell.execute_reply": "2021-09-08T16:47:23.777699Z",
     "shell.execute_reply.started": "2021-09-08T16:44:25.033795Z"
    },
    "papermill": {
     "duration": 0.037784,
     "end_time": "2021-09-08T16:47:23.778358",
     "exception": false,
     "start_time": "2021-09-08T16:47:23.740574",
     "status": "completed"
    },
    "tags": []
   }
  },
  {
   "cell_type": "code",
   "execution_count": 70,
   "source": [
    "from sklearn.feature_selection import SelectKBest\r\n",
    "sel_5_cols=SelectKBest(mutual_info_classif,5)\r\n",
    "sel_5_cols.fit(X_train,y_train)\r\n",
    "X_train.columns[sel_5_cols.get_support()]"
   ],
   "outputs": [
    {
     "output_type": "stream",
     "name": "stderr",
     "text": [
      "C:\\Users\\m\\AppData\\Local\\Programs\\Python\\Python39\\lib\\site-packages\\sklearn\\utils\\validation.py:70: FutureWarning: Pass k=5 as keyword args. From version 1.0 (renaming of 0.25) passing these as positional arguments will result in an error\n",
      "  warnings.warn(f\"Pass {args_msg} as keyword args. From version \"\n"
     ]
    },
    {
     "output_type": "execute_result",
     "data": {
      "text/plain": [
       "Index(['liver_big', 'ascites', 'varices', 'bilirubin', 'albumin'], dtype='object')"
      ]
     },
     "metadata": {},
     "execution_count": 70
    }
   ],
   "metadata": {
    "execution": {
     "iopub.execute_input": "2021-09-08T16:47:23.836572Z",
     "iopub.status.busy": "2021-09-08T16:47:23.835757Z",
     "iopub.status.idle": "2021-09-08T16:47:23.918912Z",
     "shell.execute_reply": "2021-09-08T16:47:23.919445Z",
     "shell.execute_reply.started": "2021-09-08T16:44:35.683741Z"
    },
    "papermill": {
     "duration": 0.115822,
     "end_time": "2021-09-08T16:47:23.919617",
     "exception": false,
     "start_time": "2021-09-08T16:47:23.803795",
     "status": "completed"
    },
    "tags": []
   }
  },
  {
   "cell_type": "code",
   "execution_count": 71,
   "source": [
    "cols=['age', 'bilirubin', 'alk_phosphate', 'sgot', 'albumin','class']"
   ],
   "outputs": [],
   "metadata": {
    "execution": {
     "iopub.execute_input": "2021-09-08T16:47:23.979224Z",
     "iopub.status.busy": "2021-09-08T16:47:23.978259Z",
     "iopub.status.idle": "2021-09-08T16:47:23.981478Z",
     "shell.execute_reply": "2021-09-08T16:47:23.980860Z",
     "shell.execute_reply.started": "2021-09-08T16:45:19.424735Z"
    },
    "papermill": {
     "duration": 0.034204,
     "end_time": "2021-09-08T16:47:23.981631",
     "exception": false,
     "start_time": "2021-09-08T16:47:23.947427",
     "status": "completed"
    },
    "tags": []
   }
  },
  {
   "cell_type": "code",
   "execution_count": 72,
   "source": [
    "df2=df1[cols]\r\n",
    "df2"
   ],
   "outputs": [
    {
     "output_type": "execute_result",
     "data": {
      "text/html": [
       "<div>\n",
       "<style scoped>\n",
       "    .dataframe tbody tr th:only-of-type {\n",
       "        vertical-align: middle;\n",
       "    }\n",
       "\n",
       "    .dataframe tbody tr th {\n",
       "        vertical-align: top;\n",
       "    }\n",
       "\n",
       "    .dataframe thead th {\n",
       "        text-align: right;\n",
       "    }\n",
       "</style>\n",
       "<table border=\"1\" class=\"dataframe\">\n",
       "  <thead>\n",
       "    <tr style=\"text-align: right;\">\n",
       "      <th></th>\n",
       "      <th>age</th>\n",
       "      <th>bilirubin</th>\n",
       "      <th>alk_phosphate</th>\n",
       "      <th>sgot</th>\n",
       "      <th>albumin</th>\n",
       "      <th>class</th>\n",
       "    </tr>\n",
       "  </thead>\n",
       "  <tbody>\n",
       "    <tr>\n",
       "      <th>0</th>\n",
       "      <td>30</td>\n",
       "      <td>1.0</td>\n",
       "      <td>85.0</td>\n",
       "      <td>18.0</td>\n",
       "      <td>4.0</td>\n",
       "      <td>1</td>\n",
       "    </tr>\n",
       "    <tr>\n",
       "      <th>1</th>\n",
       "      <td>50</td>\n",
       "      <td>0.9</td>\n",
       "      <td>135.0</td>\n",
       "      <td>42.0</td>\n",
       "      <td>3.5</td>\n",
       "      <td>1</td>\n",
       "    </tr>\n",
       "    <tr>\n",
       "      <th>2</th>\n",
       "      <td>78</td>\n",
       "      <td>0.7</td>\n",
       "      <td>96.0</td>\n",
       "      <td>32.0</td>\n",
       "      <td>4.0</td>\n",
       "      <td>1</td>\n",
       "    </tr>\n",
       "    <tr>\n",
       "      <th>3</th>\n",
       "      <td>31</td>\n",
       "      <td>0.7</td>\n",
       "      <td>46.0</td>\n",
       "      <td>52.0</td>\n",
       "      <td>4.0</td>\n",
       "      <td>1</td>\n",
       "    </tr>\n",
       "    <tr>\n",
       "      <th>4</th>\n",
       "      <td>34</td>\n",
       "      <td>1.0</td>\n",
       "      <td>85.0</td>\n",
       "      <td>200.0</td>\n",
       "      <td>4.0</td>\n",
       "      <td>1</td>\n",
       "    </tr>\n",
       "    <tr>\n",
       "      <th>...</th>\n",
       "      <td>...</td>\n",
       "      <td>...</td>\n",
       "      <td>...</td>\n",
       "      <td>...</td>\n",
       "      <td>...</td>\n",
       "      <td>...</td>\n",
       "    </tr>\n",
       "    <tr>\n",
       "      <th>241</th>\n",
       "      <td>41</td>\n",
       "      <td>4.2</td>\n",
       "      <td>65.0</td>\n",
       "      <td>120.0</td>\n",
       "      <td>3.4</td>\n",
       "      <td>0</td>\n",
       "    </tr>\n",
       "    <tr>\n",
       "      <th>242</th>\n",
       "      <td>57</td>\n",
       "      <td>4.1</td>\n",
       "      <td>85.0</td>\n",
       "      <td>48.0</td>\n",
       "      <td>2.6</td>\n",
       "      <td>0</td>\n",
       "    </tr>\n",
       "    <tr>\n",
       "      <th>243</th>\n",
       "      <td>54</td>\n",
       "      <td>3.9</td>\n",
       "      <td>120.0</td>\n",
       "      <td>28.0</td>\n",
       "      <td>3.5</td>\n",
       "      <td>0</td>\n",
       "    </tr>\n",
       "    <tr>\n",
       "      <th>244</th>\n",
       "      <td>70</td>\n",
       "      <td>1.7</td>\n",
       "      <td>109.0</td>\n",
       "      <td>528.0</td>\n",
       "      <td>2.8</td>\n",
       "      <td>0</td>\n",
       "    </tr>\n",
       "    <tr>\n",
       "      <th>245</th>\n",
       "      <td>42</td>\n",
       "      <td>0.5</td>\n",
       "      <td>62.0</td>\n",
       "      <td>68.0</td>\n",
       "      <td>3.8</td>\n",
       "      <td>0</td>\n",
       "    </tr>\n",
       "  </tbody>\n",
       "</table>\n",
       "<p>246 rows × 6 columns</p>\n",
       "</div>"
      ],
      "text/plain": [
       "     age  bilirubin  alk_phosphate   sgot  albumin  class\n",
       "0     30        1.0           85.0   18.0      4.0      1\n",
       "1     50        0.9          135.0   42.0      3.5      1\n",
       "2     78        0.7           96.0   32.0      4.0      1\n",
       "3     31        0.7           46.0   52.0      4.0      1\n",
       "4     34        1.0           85.0  200.0      4.0      1\n",
       "..   ...        ...            ...    ...      ...    ...\n",
       "241   41        4.2           65.0  120.0      3.4      0\n",
       "242   57        4.1           85.0   48.0      2.6      0\n",
       "243   54        3.9          120.0   28.0      3.5      0\n",
       "244   70        1.7          109.0  528.0      2.8      0\n",
       "245   42        0.5           62.0   68.0      3.8      0\n",
       "\n",
       "[246 rows x 6 columns]"
      ]
     },
     "metadata": {},
     "execution_count": 72
    }
   ],
   "metadata": {
    "execution": {
     "iopub.execute_input": "2021-09-08T16:47:24.048513Z",
     "iopub.status.busy": "2021-09-08T16:47:24.039746Z",
     "iopub.status.idle": "2021-09-08T16:47:24.061387Z",
     "shell.execute_reply": "2021-09-08T16:47:24.060831Z",
     "shell.execute_reply.started": "2021-09-08T16:45:50.783912Z"
    },
    "papermill": {
     "duration": 0.053438,
     "end_time": "2021-09-08T16:47:24.061535",
     "exception": false,
     "start_time": "2021-09-08T16:47:24.008097",
     "status": "completed"
    },
    "tags": []
   }
  },
  {
   "cell_type": "code",
   "execution_count": 73,
   "source": [
    "X=df1.drop(\"class\",axis=1)\r\n",
    "y=df1[\"class\"]"
   ],
   "outputs": [],
   "metadata": {
    "execution": {
     "iopub.execute_input": "2021-09-08T16:47:24.122876Z",
     "iopub.status.busy": "2021-09-08T16:47:24.121841Z",
     "iopub.status.idle": "2021-09-08T16:47:24.125007Z",
     "shell.execute_reply": "2021-09-08T16:47:24.124486Z",
     "shell.execute_reply.started": "2021-09-08T16:46:29.354315Z"
    },
    "papermill": {
     "duration": 0.036681,
     "end_time": "2021-09-08T16:47:24.125196",
     "exception": false,
     "start_time": "2021-09-08T16:47:24.088515",
     "status": "completed"
    },
    "tags": []
   }
  },
  {
   "cell_type": "code",
   "execution_count": 74,
   "source": [
    "from sklearn.model_selection import train_test_split\r\n",
    "X_train,X_test,y_train,y_test=train_test_split(X,y,random_state=0,test_size=0.2)\r\n",
    "\r\n",
    "from sklearn import metrics\r\n",
    "\r\n"
   ],
   "outputs": [],
   "metadata": {
    "execution": {
     "iopub.execute_input": "2021-09-08T16:47:24.195835Z",
     "iopub.status.busy": "2021-09-08T16:47:24.191577Z",
     "iopub.status.idle": "2021-09-08T16:47:24.206917Z",
     "shell.execute_reply": "2021-09-08T16:47:24.207490Z",
     "shell.execute_reply.started": "2021-09-08T16:46:44.663163Z"
    },
    "papermill": {
     "duration": 0.05529,
     "end_time": "2021-09-08T16:47:24.207691",
     "exception": false,
     "start_time": "2021-09-08T16:47:24.152401",
     "status": "completed"
    },
    "tags": []
   }
  },
  {
   "cell_type": "code",
   "execution_count": 75,
   "source": [
    "from sklearn.ensemble import RandomForestClassifier\r\n",
    "model1=RandomForestClassifier()\r\n",
    "model1.fit(X_train,y_train)\r\n",
    "y_pred=model1.predict(X_test)\r\n",
    "print(metrics.classification_report(y_test,y_pred))"
   ],
   "outputs": [
    {
     "output_type": "stream",
     "name": "stdout",
     "text": [
      "              precision    recall  f1-score   support\n",
      "\n",
      "           0       0.89      1.00      0.94        24\n",
      "           1       1.00      0.88      0.94        26\n",
      "\n",
      "    accuracy                           0.94        50\n",
      "   macro avg       0.94      0.94      0.94        50\n",
      "weighted avg       0.95      0.94      0.94        50\n",
      "\n"
     ]
    }
   ],
   "metadata": {
    "execution": {
     "iopub.execute_input": "2021-09-08T16:47:24.281697Z",
     "iopub.status.busy": "2021-09-08T16:47:24.276434Z",
     "iopub.status.idle": "2021-09-08T16:47:24.480265Z",
     "shell.execute_reply": "2021-09-08T16:47:24.479301Z",
     "shell.execute_reply.started": "2021-09-08T16:46:55.203322Z"
    },
    "papermill": {
     "duration": 0.244783,
     "end_time": "2021-09-08T16:47:24.480467",
     "exception": false,
     "start_time": "2021-09-08T16:47:24.235684",
     "status": "completed"
    },
    "tags": []
   }
  },
  {
   "cell_type": "code",
   "execution_count": 76,
   "source": [
    "import pickle"
   ],
   "outputs": [],
   "metadata": {
    "papermill": {
     "duration": 0.027103,
     "end_time": "2021-09-08T16:47:24.536190",
     "exception": false,
     "start_time": "2021-09-08T16:47:24.509087",
     "status": "completed"
    },
    "tags": []
   }
  },
  {
   "cell_type": "code",
   "execution_count": 77,
   "source": [
    "filename='hepatitis.pkl'"
   ],
   "outputs": [],
   "metadata": {}
  },
  {
   "cell_type": "code",
   "execution_count": 78,
   "source": [
    "pickle.dump(model1,open(filename,'wb'))"
   ],
   "outputs": [],
   "metadata": {}
  },
  {
   "cell_type": "code",
   "execution_count": null,
   "source": [],
   "outputs": [],
   "metadata": {}
  }
 ],
 "metadata": {
  "kernelspec": {
   "name": "python3",
   "display_name": "Python 3.9.5 64-bit"
  },
  "language_info": {
   "codemirror_mode": {
    "name": "ipython",
    "version": 3
   },
   "file_extension": ".py",
   "mimetype": "text/x-python",
   "name": "python",
   "nbconvert_exporter": "python",
   "pygments_lexer": "ipython3",
   "version": "3.9.5"
  },
  "papermill": {
   "default_parameters": {},
   "duration": 13.868117,
   "end_time": "2021-09-08T16:47:26.186437",
   "environment_variables": {},
   "exception": null,
   "input_path": "__notebook__.ipynb",
   "output_path": "__notebook__.ipynb",
   "parameters": {},
   "start_time": "2021-09-08T16:47:12.318320",
   "version": "2.3.3"
  },
  "interpreter": {
   "hash": "b9c450275026c7d4dbf55adc921a6a98e1df0fc770592509d7f04a3ef8b10d5f"
  }
 },
 "nbformat": 4,
 "nbformat_minor": 5
}