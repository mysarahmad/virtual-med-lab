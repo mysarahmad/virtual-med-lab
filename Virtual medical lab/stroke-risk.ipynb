{
 "cells": [
  {
   "cell_type": "code",
   "execution_count": 1,
   "id": "5abbf77c",
   "metadata": {
    "_cell_guid": "b1076dfc-b9ad-4769-8c92-a6c4dae69d19",
    "_uuid": "8f2839f25d086af736a60e9eeb907d3b93b6e0e5",
    "execution": {
     "iopub.execute_input": "2021-09-08T15:13:37.490328Z",
     "iopub.status.busy": "2021-09-08T15:13:37.489524Z",
     "iopub.status.idle": "2021-09-08T15:13:37.500128Z",
     "shell.execute_reply": "2021-09-08T15:13:37.500656Z",
     "shell.execute_reply.started": "2021-09-08T14:49:08.832869Z"
    },
    "papermill": {
     "duration": 0.055374,
     "end_time": "2021-09-08T15:13:37.501044",
     "exception": false,
     "start_time": "2021-09-08T15:13:37.445670",
     "status": "completed"
    },
    "tags": []
   },
   "outputs": [
    {
     "name": "stdout",
     "output_type": "stream",
     "text": [
      "/kaggle/input/stroke-prediction-dataset/healthcare-dataset-stroke-data.csv\n"
     ]
    }
   ],
   "source": [
    "# This Python 3 environment comes with many helpful analytics libraries installed\n",
    "# It is defined by the kaggle/python Docker image: https://github.com/kaggle/docker-python\n",
    "# For example, here's several helpful packages to load\n",
    "\n",
    "import numpy as np # linear algebra\n",
    "import pandas as pd # data processing, CSV file I/O (e.g. pd.read_csv)\n",
    "\n",
    "# Input data files are available in the read-only \"../input/\" directory\n",
    "# For example, running this (by clicking run or pressing Shift+Enter) will list all files under the input directory\n",
    "\n",
    "import os\n",
    "for dirname, _, filenames in os.walk('/kaggle/input'):\n",
    "    for filename in filenames:\n",
    "        print(os.path.join(dirname, filename))\n",
    "\n",
    "# You can write up to 20GB to the current directory (/kaggle/working/) that gets preserved as output when you create a version using \"Save & Run All\" \n",
    "# You can also write temporary files to /kaggle/temp/, but they won't be saved outside of the current session"
   ]
  },
  {
   "cell_type": "code",
   "execution_count": 2,
   "id": "30bb6188",
   "metadata": {
    "execution": {
     "iopub.execute_input": "2021-09-08T15:13:37.561300Z",
     "iopub.status.busy": "2021-09-08T15:13:37.560466Z",
     "iopub.status.idle": "2021-09-08T15:13:38.668824Z",
     "shell.execute_reply": "2021-09-08T15:13:38.669415Z",
     "shell.execute_reply.started": "2021-09-08T14:49:08.843604Z"
    },
    "papermill": {
     "duration": 1.140946,
     "end_time": "2021-09-08T15:13:38.669619",
     "exception": false,
     "start_time": "2021-09-08T15:13:37.528673",
     "status": "completed"
    },
    "tags": []
   },
   "outputs": [],
   "source": [
    "import pandas as pd\n",
    "import matplotlib.pyplot as plt\n",
    "import seaborn as sns"
   ]
  },
  {
   "cell_type": "code",
   "execution_count": 3,
   "id": "c12952e0",
   "metadata": {
    "execution": {
     "iopub.execute_input": "2021-09-08T15:13:38.728259Z",
     "iopub.status.busy": "2021-09-08T15:13:38.727089Z",
     "iopub.status.idle": "2021-09-08T15:13:38.802024Z",
     "shell.execute_reply": "2021-09-08T15:13:38.802570Z",
     "shell.execute_reply.started": "2021-09-08T14:49:08.861710Z"
    },
    "papermill": {
     "duration": 0.105941,
     "end_time": "2021-09-08T15:13:38.802809",
     "exception": false,
     "start_time": "2021-09-08T15:13:38.696868",
     "status": "completed"
    },
    "tags": []
   },
   "outputs": [
    {
     "data": {
      "text/html": [
       "<div>\n",
       "<style scoped>\n",
       "    .dataframe tbody tr th:only-of-type {\n",
       "        vertical-align: middle;\n",
       "    }\n",
       "\n",
       "    .dataframe tbody tr th {\n",
       "        vertical-align: top;\n",
       "    }\n",
       "\n",
       "    .dataframe thead th {\n",
       "        text-align: right;\n",
       "    }\n",
       "</style>\n",
       "<table border=\"1\" class=\"dataframe\">\n",
       "  <thead>\n",
       "    <tr style=\"text-align: right;\">\n",
       "      <th></th>\n",
       "      <th>id</th>\n",
       "      <th>gender</th>\n",
       "      <th>age</th>\n",
       "      <th>hypertension</th>\n",
       "      <th>heart_disease</th>\n",
       "      <th>ever_married</th>\n",
       "      <th>work_type</th>\n",
       "      <th>Residence_type</th>\n",
       "      <th>avg_glucose_level</th>\n",
       "      <th>bmi</th>\n",
       "      <th>smoking_status</th>\n",
       "      <th>stroke</th>\n",
       "    </tr>\n",
       "  </thead>\n",
       "  <tbody>\n",
       "    <tr>\n",
       "      <th>0</th>\n",
       "      <td>9046</td>\n",
       "      <td>Male</td>\n",
       "      <td>67.0</td>\n",
       "      <td>0</td>\n",
       "      <td>1</td>\n",
       "      <td>Yes</td>\n",
       "      <td>Private</td>\n",
       "      <td>Urban</td>\n",
       "      <td>228.69</td>\n",
       "      <td>36.6</td>\n",
       "      <td>formerly smoked</td>\n",
       "      <td>1</td>\n",
       "    </tr>\n",
       "    <tr>\n",
       "      <th>1</th>\n",
       "      <td>51676</td>\n",
       "      <td>Female</td>\n",
       "      <td>61.0</td>\n",
       "      <td>0</td>\n",
       "      <td>0</td>\n",
       "      <td>Yes</td>\n",
       "      <td>Self-employed</td>\n",
       "      <td>Rural</td>\n",
       "      <td>202.21</td>\n",
       "      <td>NaN</td>\n",
       "      <td>never smoked</td>\n",
       "      <td>1</td>\n",
       "    </tr>\n",
       "    <tr>\n",
       "      <th>2</th>\n",
       "      <td>31112</td>\n",
       "      <td>Male</td>\n",
       "      <td>80.0</td>\n",
       "      <td>0</td>\n",
       "      <td>1</td>\n",
       "      <td>Yes</td>\n",
       "      <td>Private</td>\n",
       "      <td>Rural</td>\n",
       "      <td>105.92</td>\n",
       "      <td>32.5</td>\n",
       "      <td>never smoked</td>\n",
       "      <td>1</td>\n",
       "    </tr>\n",
       "    <tr>\n",
       "      <th>3</th>\n",
       "      <td>60182</td>\n",
       "      <td>Female</td>\n",
       "      <td>49.0</td>\n",
       "      <td>0</td>\n",
       "      <td>0</td>\n",
       "      <td>Yes</td>\n",
       "      <td>Private</td>\n",
       "      <td>Urban</td>\n",
       "      <td>171.23</td>\n",
       "      <td>34.4</td>\n",
       "      <td>smokes</td>\n",
       "      <td>1</td>\n",
       "    </tr>\n",
       "    <tr>\n",
       "      <th>4</th>\n",
       "      <td>1665</td>\n",
       "      <td>Female</td>\n",
       "      <td>79.0</td>\n",
       "      <td>1</td>\n",
       "      <td>0</td>\n",
       "      <td>Yes</td>\n",
       "      <td>Self-employed</td>\n",
       "      <td>Rural</td>\n",
       "      <td>174.12</td>\n",
       "      <td>24.0</td>\n",
       "      <td>never smoked</td>\n",
       "      <td>1</td>\n",
       "    </tr>\n",
       "    <tr>\n",
       "      <th>...</th>\n",
       "      <td>...</td>\n",
       "      <td>...</td>\n",
       "      <td>...</td>\n",
       "      <td>...</td>\n",
       "      <td>...</td>\n",
       "      <td>...</td>\n",
       "      <td>...</td>\n",
       "      <td>...</td>\n",
       "      <td>...</td>\n",
       "      <td>...</td>\n",
       "      <td>...</td>\n",
       "      <td>...</td>\n",
       "    </tr>\n",
       "    <tr>\n",
       "      <th>5105</th>\n",
       "      <td>18234</td>\n",
       "      <td>Female</td>\n",
       "      <td>80.0</td>\n",
       "      <td>1</td>\n",
       "      <td>0</td>\n",
       "      <td>Yes</td>\n",
       "      <td>Private</td>\n",
       "      <td>Urban</td>\n",
       "      <td>83.75</td>\n",
       "      <td>NaN</td>\n",
       "      <td>never smoked</td>\n",
       "      <td>0</td>\n",
       "    </tr>\n",
       "    <tr>\n",
       "      <th>5106</th>\n",
       "      <td>44873</td>\n",
       "      <td>Female</td>\n",
       "      <td>81.0</td>\n",
       "      <td>0</td>\n",
       "      <td>0</td>\n",
       "      <td>Yes</td>\n",
       "      <td>Self-employed</td>\n",
       "      <td>Urban</td>\n",
       "      <td>125.20</td>\n",
       "      <td>40.0</td>\n",
       "      <td>never smoked</td>\n",
       "      <td>0</td>\n",
       "    </tr>\n",
       "    <tr>\n",
       "      <th>5107</th>\n",
       "      <td>19723</td>\n",
       "      <td>Female</td>\n",
       "      <td>35.0</td>\n",
       "      <td>0</td>\n",
       "      <td>0</td>\n",
       "      <td>Yes</td>\n",
       "      <td>Self-employed</td>\n",
       "      <td>Rural</td>\n",
       "      <td>82.99</td>\n",
       "      <td>30.6</td>\n",
       "      <td>never smoked</td>\n",
       "      <td>0</td>\n",
       "    </tr>\n",
       "    <tr>\n",
       "      <th>5108</th>\n",
       "      <td>37544</td>\n",
       "      <td>Male</td>\n",
       "      <td>51.0</td>\n",
       "      <td>0</td>\n",
       "      <td>0</td>\n",
       "      <td>Yes</td>\n",
       "      <td>Private</td>\n",
       "      <td>Rural</td>\n",
       "      <td>166.29</td>\n",
       "      <td>25.6</td>\n",
       "      <td>formerly smoked</td>\n",
       "      <td>0</td>\n",
       "    </tr>\n",
       "    <tr>\n",
       "      <th>5109</th>\n",
       "      <td>44679</td>\n",
       "      <td>Female</td>\n",
       "      <td>44.0</td>\n",
       "      <td>0</td>\n",
       "      <td>0</td>\n",
       "      <td>Yes</td>\n",
       "      <td>Govt_job</td>\n",
       "      <td>Urban</td>\n",
       "      <td>85.28</td>\n",
       "      <td>26.2</td>\n",
       "      <td>Unknown</td>\n",
       "      <td>0</td>\n",
       "    </tr>\n",
       "  </tbody>\n",
       "</table>\n",
       "<p>5110 rows × 12 columns</p>\n",
       "</div>"
      ],
      "text/plain": [
       "         id  gender   age  hypertension  heart_disease ever_married  \\\n",
       "0      9046    Male  67.0             0              1          Yes   \n",
       "1     51676  Female  61.0             0              0          Yes   \n",
       "2     31112    Male  80.0             0              1          Yes   \n",
       "3     60182  Female  49.0             0              0          Yes   \n",
       "4      1665  Female  79.0             1              0          Yes   \n",
       "...     ...     ...   ...           ...            ...          ...   \n",
       "5105  18234  Female  80.0             1              0          Yes   \n",
       "5106  44873  Female  81.0             0              0          Yes   \n",
       "5107  19723  Female  35.0             0              0          Yes   \n",
       "5108  37544    Male  51.0             0              0          Yes   \n",
       "5109  44679  Female  44.0             0              0          Yes   \n",
       "\n",
       "          work_type Residence_type  avg_glucose_level   bmi   smoking_status  \\\n",
       "0           Private          Urban             228.69  36.6  formerly smoked   \n",
       "1     Self-employed          Rural             202.21   NaN     never smoked   \n",
       "2           Private          Rural             105.92  32.5     never smoked   \n",
       "3           Private          Urban             171.23  34.4           smokes   \n",
       "4     Self-employed          Rural             174.12  24.0     never smoked   \n",
       "...             ...            ...                ...   ...              ...   \n",
       "5105        Private          Urban              83.75   NaN     never smoked   \n",
       "5106  Self-employed          Urban             125.20  40.0     never smoked   \n",
       "5107  Self-employed          Rural              82.99  30.6     never smoked   \n",
       "5108        Private          Rural             166.29  25.6  formerly smoked   \n",
       "5109       Govt_job          Urban              85.28  26.2          Unknown   \n",
       "\n",
       "      stroke  \n",
       "0          1  \n",
       "1          1  \n",
       "2          1  \n",
       "3          1  \n",
       "4          1  \n",
       "...      ...  \n",
       "5105       0  \n",
       "5106       0  \n",
       "5107       0  \n",
       "5108       0  \n",
       "5109       0  \n",
       "\n",
       "[5110 rows x 12 columns]"
      ]
     },
     "execution_count": 3,
     "metadata": {},
     "output_type": "execute_result"
    }
   ],
   "source": [
    "df=pd.read_csv(\"/kaggle/input/stroke-prediction-dataset/healthcare-dataset-stroke-data.csv\")\n",
    "df"
   ]
  },
  {
   "cell_type": "code",
   "execution_count": 4,
   "id": "34bf9489",
   "metadata": {
    "execution": {
     "iopub.execute_input": "2021-09-08T15:13:38.872292Z",
     "iopub.status.busy": "2021-09-08T15:13:38.866936Z",
     "iopub.status.idle": "2021-09-08T15:13:38.877205Z",
     "shell.execute_reply": "2021-09-08T15:13:38.876534Z",
     "shell.execute_reply.started": "2021-09-08T14:49:08.905432Z"
    },
    "papermill": {
     "duration": 0.046859,
     "end_time": "2021-09-08T15:13:38.877388",
     "exception": false,
     "start_time": "2021-09-08T15:13:38.830529",
     "status": "completed"
    },
    "tags": []
   },
   "outputs": [
    {
     "data": {
      "text/plain": [
       "id                     0\n",
       "gender                 0\n",
       "age                    0\n",
       "hypertension           0\n",
       "heart_disease          0\n",
       "ever_married           0\n",
       "work_type              0\n",
       "Residence_type         0\n",
       "avg_glucose_level      0\n",
       "bmi                  201\n",
       "smoking_status         0\n",
       "stroke                 0\n",
       "dtype: int64"
      ]
     },
     "execution_count": 4,
     "metadata": {},
     "output_type": "execute_result"
    }
   ],
   "source": [
    "df.isna().sum()"
   ]
  },
  {
   "cell_type": "code",
   "execution_count": 5,
   "id": "e2e87afd",
   "metadata": {
    "execution": {
     "iopub.execute_input": "2021-09-08T15:13:38.939061Z",
     "iopub.status.busy": "2021-09-08T15:13:38.938211Z",
     "iopub.status.idle": "2021-09-08T15:13:38.945753Z",
     "shell.execute_reply": "2021-09-08T15:13:38.946257Z",
     "shell.execute_reply.started": "2021-09-08T14:49:08.919914Z"
    },
    "papermill": {
     "duration": 0.039858,
     "end_time": "2021-09-08T15:13:38.946451",
     "exception": false,
     "start_time": "2021-09-08T15:13:38.906593",
     "status": "completed"
    },
    "tags": []
   },
   "outputs": [
    {
     "data": {
      "text/plain": [
       "28.1"
      ]
     },
     "execution_count": 5,
     "metadata": {},
     "output_type": "execute_result"
    }
   ],
   "source": [
    "df[\"bmi\"].median()"
   ]
  },
  {
   "cell_type": "code",
   "execution_count": 6,
   "id": "91b7cd27",
   "metadata": {
    "execution": {
     "iopub.execute_input": "2021-09-08T15:13:39.009805Z",
     "iopub.status.busy": "2021-09-08T15:13:39.009077Z",
     "iopub.status.idle": "2021-09-08T15:13:39.015884Z",
     "shell.execute_reply": "2021-09-08T15:13:39.015281Z",
     "shell.execute_reply.started": "2021-09-08T14:49:08.928268Z"
    },
    "papermill": {
     "duration": 0.040332,
     "end_time": "2021-09-08T15:13:39.016043",
     "exception": false,
     "start_time": "2021-09-08T15:13:38.975711",
     "status": "completed"
    },
    "tags": []
   },
   "outputs": [],
   "source": [
    "df[\"bmi\"]=df[\"bmi\"].fillna(df[\"bmi\"].mode()[0])"
   ]
  },
  {
   "cell_type": "code",
   "execution_count": 7,
   "id": "15bee38e",
   "metadata": {
    "execution": {
     "iopub.execute_input": "2021-09-08T15:13:39.083530Z",
     "iopub.status.busy": "2021-09-08T15:13:39.082423Z",
     "iopub.status.idle": "2021-09-08T15:13:39.086077Z",
     "shell.execute_reply": "2021-09-08T15:13:39.086562Z",
     "shell.execute_reply.started": "2021-09-08T14:49:08.936656Z"
    },
    "papermill": {
     "duration": 0.042327,
     "end_time": "2021-09-08T15:13:39.086771",
     "exception": false,
     "start_time": "2021-09-08T15:13:39.044444",
     "status": "completed"
    },
    "tags": []
   },
   "outputs": [
    {
     "data": {
      "text/plain": [
       "Index(['gender', 'ever_married', 'work_type', 'Residence_type',\n",
       "       'smoking_status'],\n",
       "      dtype='object')"
      ]
     },
     "execution_count": 7,
     "metadata": {},
     "output_type": "execute_result"
    }
   ],
   "source": [
    "cat=df.select_dtypes(include=\"object\").columns\n",
    "cat"
   ]
  },
  {
   "cell_type": "code",
   "execution_count": 8,
   "id": "b42f12bd",
   "metadata": {
    "execution": {
     "iopub.execute_input": "2021-09-08T15:13:39.149840Z",
     "iopub.status.busy": "2021-09-08T15:13:39.148822Z",
     "iopub.status.idle": "2021-09-08T15:13:39.158045Z",
     "shell.execute_reply": "2021-09-08T15:13:39.157386Z",
     "shell.execute_reply.started": "2021-09-08T14:49:08.951934Z"
    },
    "papermill": {
     "duration": 0.042093,
     "end_time": "2021-09-08T15:13:39.158209",
     "exception": false,
     "start_time": "2021-09-08T15:13:39.116116",
     "status": "completed"
    },
    "tags": []
   },
   "outputs": [],
   "source": [
    "df.drop(3116,inplace=True)"
   ]
  },
  {
   "cell_type": "code",
   "execution_count": 9,
   "id": "c21b5148",
   "metadata": {
    "execution": {
     "iopub.execute_input": "2021-09-08T15:13:39.237608Z",
     "iopub.status.busy": "2021-09-08T15:13:39.236436Z",
     "iopub.status.idle": "2021-09-08T15:13:39.241862Z",
     "shell.execute_reply": "2021-09-08T15:13:39.241145Z",
     "shell.execute_reply.started": "2021-09-08T14:49:08.963091Z"
    },
    "papermill": {
     "duration": 0.049033,
     "end_time": "2021-09-08T15:13:39.242026",
     "exception": false,
     "start_time": "2021-09-08T15:13:39.192993",
     "status": "completed"
    },
    "tags": []
   },
   "outputs": [
    {
     "data": {
      "text/plain": [
       "never smoked       1892\n",
       "Unknown            1544\n",
       "formerly smoked     884\n",
       "smokes              789\n",
       "Name: smoking_status, dtype: int64"
      ]
     },
     "execution_count": 9,
     "metadata": {},
     "output_type": "execute_result"
    }
   ],
   "source": [
    "df[\"smoking_status\"].value_counts()"
   ]
  },
  {
   "cell_type": "markdown",
   "id": "28776828",
   "metadata": {
    "papermill": {
     "duration": 0.029283,
     "end_time": "2021-09-08T15:13:39.301214",
     "exception": false,
     "start_time": "2021-09-08T15:13:39.271931",
     "status": "completed"
    },
    "tags": []
   },
   "source": [
    "## make data set ready for modelling:"
   ]
  },
  {
   "cell_type": "code",
   "execution_count": 10,
   "id": "913dbc46",
   "metadata": {
    "execution": {
     "iopub.execute_input": "2021-09-08T15:13:39.364660Z",
     "iopub.status.busy": "2021-09-08T15:13:39.363944Z",
     "iopub.status.idle": "2021-09-08T15:13:39.371352Z",
     "shell.execute_reply": "2021-09-08T15:13:39.370498Z",
     "shell.execute_reply.started": "2021-09-08T14:49:08.978738Z"
    },
    "papermill": {
     "duration": 0.040601,
     "end_time": "2021-09-08T15:13:39.371532",
     "exception": false,
     "start_time": "2021-09-08T15:13:39.330931",
     "status": "completed"
    },
    "tags": []
   },
   "outputs": [
    {
     "data": {
      "text/plain": [
       "Index(['gender', 'ever_married', 'work_type', 'Residence_type',\n",
       "       'smoking_status'],\n",
       "      dtype='object')"
      ]
     },
     "execution_count": 10,
     "metadata": {},
     "output_type": "execute_result"
    }
   ],
   "source": [
    "cat"
   ]
  },
  {
   "cell_type": "code",
   "execution_count": 11,
   "id": "ee495c43",
   "metadata": {
    "execution": {
     "iopub.execute_input": "2021-09-08T15:13:39.433446Z",
     "iopub.status.busy": "2021-09-08T15:13:39.432818Z",
     "iopub.status.idle": "2021-09-08T15:13:39.589441Z",
     "shell.execute_reply": "2021-09-08T15:13:39.590097Z",
     "shell.execute_reply.started": "2021-09-08T14:49:08.991746Z"
    },
    "papermill": {
     "duration": 0.189482,
     "end_time": "2021-09-08T15:13:39.590309",
     "exception": false,
     "start_time": "2021-09-08T15:13:39.400827",
     "status": "completed"
    },
    "tags": []
   },
   "outputs": [],
   "source": [
    "from sklearn.preprocessing import LabelEncoder\n",
    "\n",
    "le = LabelEncoder()\n",
    "\n",
    "for col in cat:\n",
    "    df[col] = le.fit_transform(df[col])"
   ]
  },
  {
   "cell_type": "code",
   "execution_count": 12,
   "id": "5e979696",
   "metadata": {
    "execution": {
     "iopub.execute_input": "2021-09-08T15:13:39.654808Z",
     "iopub.status.busy": "2021-09-08T15:13:39.654086Z",
     "iopub.status.idle": "2021-09-08T15:13:39.670022Z",
     "shell.execute_reply": "2021-09-08T15:13:39.670524Z",
     "shell.execute_reply.started": "2021-09-08T14:49:09.010316Z"
    },
    "papermill": {
     "duration": 0.049971,
     "end_time": "2021-09-08T15:13:39.670820",
     "exception": false,
     "start_time": "2021-09-08T15:13:39.620849",
     "status": "completed"
    },
    "tags": []
   },
   "outputs": [
    {
     "data": {
      "text/html": [
       "<div>\n",
       "<style scoped>\n",
       "    .dataframe tbody tr th:only-of-type {\n",
       "        vertical-align: middle;\n",
       "    }\n",
       "\n",
       "    .dataframe tbody tr th {\n",
       "        vertical-align: top;\n",
       "    }\n",
       "\n",
       "    .dataframe thead th {\n",
       "        text-align: right;\n",
       "    }\n",
       "</style>\n",
       "<table border=\"1\" class=\"dataframe\">\n",
       "  <thead>\n",
       "    <tr style=\"text-align: right;\">\n",
       "      <th></th>\n",
       "      <th>id</th>\n",
       "      <th>gender</th>\n",
       "      <th>age</th>\n",
       "      <th>hypertension</th>\n",
       "      <th>heart_disease</th>\n",
       "      <th>ever_married</th>\n",
       "      <th>work_type</th>\n",
       "      <th>Residence_type</th>\n",
       "      <th>avg_glucose_level</th>\n",
       "      <th>bmi</th>\n",
       "      <th>smoking_status</th>\n",
       "      <th>stroke</th>\n",
       "    </tr>\n",
       "  </thead>\n",
       "  <tbody>\n",
       "    <tr>\n",
       "      <th>0</th>\n",
       "      <td>9046</td>\n",
       "      <td>1</td>\n",
       "      <td>67.0</td>\n",
       "      <td>0</td>\n",
       "      <td>1</td>\n",
       "      <td>1</td>\n",
       "      <td>2</td>\n",
       "      <td>1</td>\n",
       "      <td>228.69</td>\n",
       "      <td>36.6</td>\n",
       "      <td>1</td>\n",
       "      <td>1</td>\n",
       "    </tr>\n",
       "    <tr>\n",
       "      <th>1</th>\n",
       "      <td>51676</td>\n",
       "      <td>0</td>\n",
       "      <td>61.0</td>\n",
       "      <td>0</td>\n",
       "      <td>0</td>\n",
       "      <td>1</td>\n",
       "      <td>3</td>\n",
       "      <td>0</td>\n",
       "      <td>202.21</td>\n",
       "      <td>28.7</td>\n",
       "      <td>2</td>\n",
       "      <td>1</td>\n",
       "    </tr>\n",
       "    <tr>\n",
       "      <th>2</th>\n",
       "      <td>31112</td>\n",
       "      <td>1</td>\n",
       "      <td>80.0</td>\n",
       "      <td>0</td>\n",
       "      <td>1</td>\n",
       "      <td>1</td>\n",
       "      <td>2</td>\n",
       "      <td>0</td>\n",
       "      <td>105.92</td>\n",
       "      <td>32.5</td>\n",
       "      <td>2</td>\n",
       "      <td>1</td>\n",
       "    </tr>\n",
       "    <tr>\n",
       "      <th>3</th>\n",
       "      <td>60182</td>\n",
       "      <td>0</td>\n",
       "      <td>49.0</td>\n",
       "      <td>0</td>\n",
       "      <td>0</td>\n",
       "      <td>1</td>\n",
       "      <td>2</td>\n",
       "      <td>1</td>\n",
       "      <td>171.23</td>\n",
       "      <td>34.4</td>\n",
       "      <td>3</td>\n",
       "      <td>1</td>\n",
       "    </tr>\n",
       "    <tr>\n",
       "      <th>4</th>\n",
       "      <td>1665</td>\n",
       "      <td>0</td>\n",
       "      <td>79.0</td>\n",
       "      <td>1</td>\n",
       "      <td>0</td>\n",
       "      <td>1</td>\n",
       "      <td>3</td>\n",
       "      <td>0</td>\n",
       "      <td>174.12</td>\n",
       "      <td>24.0</td>\n",
       "      <td>2</td>\n",
       "      <td>1</td>\n",
       "    </tr>\n",
       "  </tbody>\n",
       "</table>\n",
       "</div>"
      ],
      "text/plain": [
       "      id  gender   age  hypertension  heart_disease  ever_married  work_type  \\\n",
       "0   9046       1  67.0             0              1             1          2   \n",
       "1  51676       0  61.0             0              0             1          3   \n",
       "2  31112       1  80.0             0              1             1          2   \n",
       "3  60182       0  49.0             0              0             1          2   \n",
       "4   1665       0  79.0             1              0             1          3   \n",
       "\n",
       "   Residence_type  avg_glucose_level   bmi  smoking_status  stroke  \n",
       "0               1             228.69  36.6               1       1  \n",
       "1               0             202.21  28.7               2       1  \n",
       "2               0             105.92  32.5               2       1  \n",
       "3               1             171.23  34.4               3       1  \n",
       "4               0             174.12  24.0               2       1  "
      ]
     },
     "execution_count": 12,
     "metadata": {},
     "output_type": "execute_result"
    }
   ],
   "source": [
    "df.head()"
   ]
  },
  {
   "cell_type": "code",
   "execution_count": 13,
   "id": "f403b11c",
   "metadata": {
    "execution": {
     "iopub.execute_input": "2021-09-08T15:13:39.737990Z",
     "iopub.status.busy": "2021-09-08T15:13:39.737331Z",
     "iopub.status.idle": "2021-09-08T15:13:39.745375Z",
     "shell.execute_reply": "2021-09-08T15:13:39.744754Z",
     "shell.execute_reply.started": "2021-09-08T14:49:09.027471Z"
    },
    "papermill": {
     "duration": 0.041133,
     "end_time": "2021-09-08T15:13:39.745535",
     "exception": false,
     "start_time": "2021-09-08T15:13:39.704402",
     "status": "completed"
    },
    "tags": []
   },
   "outputs": [],
   "source": [
    "df.drop(\"id\",axis=1,inplace=True)"
   ]
  },
  {
   "cell_type": "code",
   "execution_count": 14,
   "id": "2a37fb10",
   "metadata": {
    "execution": {
     "iopub.execute_input": "2021-09-08T15:13:39.824809Z",
     "iopub.status.busy": "2021-09-08T15:13:39.823755Z",
     "iopub.status.idle": "2021-09-08T15:13:39.828222Z",
     "shell.execute_reply": "2021-09-08T15:13:39.828699Z",
     "shell.execute_reply.started": "2021-09-08T14:49:09.038809Z"
    },
    "papermill": {
     "duration": 0.051983,
     "end_time": "2021-09-08T15:13:39.829018",
     "exception": false,
     "start_time": "2021-09-08T15:13:39.777035",
     "status": "completed"
    },
    "tags": []
   },
   "outputs": [
    {
     "data": {
      "text/html": [
       "<div>\n",
       "<style scoped>\n",
       "    .dataframe tbody tr th:only-of-type {\n",
       "        vertical-align: middle;\n",
       "    }\n",
       "\n",
       "    .dataframe tbody tr th {\n",
       "        vertical-align: top;\n",
       "    }\n",
       "\n",
       "    .dataframe thead th {\n",
       "        text-align: right;\n",
       "    }\n",
       "</style>\n",
       "<table border=\"1\" class=\"dataframe\">\n",
       "  <thead>\n",
       "    <tr style=\"text-align: right;\">\n",
       "      <th></th>\n",
       "      <th>gender</th>\n",
       "      <th>age</th>\n",
       "      <th>hypertension</th>\n",
       "      <th>heart_disease</th>\n",
       "      <th>ever_married</th>\n",
       "      <th>work_type</th>\n",
       "      <th>Residence_type</th>\n",
       "      <th>avg_glucose_level</th>\n",
       "      <th>bmi</th>\n",
       "      <th>smoking_status</th>\n",
       "      <th>stroke</th>\n",
       "    </tr>\n",
       "  </thead>\n",
       "  <tbody>\n",
       "    <tr>\n",
       "      <th>0</th>\n",
       "      <td>1</td>\n",
       "      <td>67.0</td>\n",
       "      <td>0</td>\n",
       "      <td>1</td>\n",
       "      <td>1</td>\n",
       "      <td>2</td>\n",
       "      <td>1</td>\n",
       "      <td>228.69</td>\n",
       "      <td>36.6</td>\n",
       "      <td>1</td>\n",
       "      <td>1</td>\n",
       "    </tr>\n",
       "    <tr>\n",
       "      <th>1</th>\n",
       "      <td>0</td>\n",
       "      <td>61.0</td>\n",
       "      <td>0</td>\n",
       "      <td>0</td>\n",
       "      <td>1</td>\n",
       "      <td>3</td>\n",
       "      <td>0</td>\n",
       "      <td>202.21</td>\n",
       "      <td>28.7</td>\n",
       "      <td>2</td>\n",
       "      <td>1</td>\n",
       "    </tr>\n",
       "    <tr>\n",
       "      <th>2</th>\n",
       "      <td>1</td>\n",
       "      <td>80.0</td>\n",
       "      <td>0</td>\n",
       "      <td>1</td>\n",
       "      <td>1</td>\n",
       "      <td>2</td>\n",
       "      <td>0</td>\n",
       "      <td>105.92</td>\n",
       "      <td>32.5</td>\n",
       "      <td>2</td>\n",
       "      <td>1</td>\n",
       "    </tr>\n",
       "    <tr>\n",
       "      <th>3</th>\n",
       "      <td>0</td>\n",
       "      <td>49.0</td>\n",
       "      <td>0</td>\n",
       "      <td>0</td>\n",
       "      <td>1</td>\n",
       "      <td>2</td>\n",
       "      <td>1</td>\n",
       "      <td>171.23</td>\n",
       "      <td>34.4</td>\n",
       "      <td>3</td>\n",
       "      <td>1</td>\n",
       "    </tr>\n",
       "    <tr>\n",
       "      <th>4</th>\n",
       "      <td>0</td>\n",
       "      <td>79.0</td>\n",
       "      <td>1</td>\n",
       "      <td>0</td>\n",
       "      <td>1</td>\n",
       "      <td>3</td>\n",
       "      <td>0</td>\n",
       "      <td>174.12</td>\n",
       "      <td>24.0</td>\n",
       "      <td>2</td>\n",
       "      <td>1</td>\n",
       "    </tr>\n",
       "  </tbody>\n",
       "</table>\n",
       "</div>"
      ],
      "text/plain": [
       "   gender   age  hypertension  heart_disease  ever_married  work_type  \\\n",
       "0       1  67.0             0              1             1          2   \n",
       "1       0  61.0             0              0             1          3   \n",
       "2       1  80.0             0              1             1          2   \n",
       "3       0  49.0             0              0             1          2   \n",
       "4       0  79.0             1              0             1          3   \n",
       "\n",
       "   Residence_type  avg_glucose_level   bmi  smoking_status  stroke  \n",
       "0               1             228.69  36.6               1       1  \n",
       "1               0             202.21  28.7               2       1  \n",
       "2               0             105.92  32.5               2       1  \n",
       "3               1             171.23  34.4               3       1  \n",
       "4               0             174.12  24.0               2       1  "
      ]
     },
     "execution_count": 14,
     "metadata": {},
     "output_type": "execute_result"
    }
   ],
   "source": [
    "df.head()"
   ]
  },
  {
   "cell_type": "markdown",
   "id": "aead3436",
   "metadata": {
    "papermill": {
     "duration": 0.030238,
     "end_time": "2021-09-08T15:13:39.890591",
     "exception": false,
     "start_time": "2021-09-08T15:13:39.860353",
     "status": "completed"
    },
    "tags": []
   },
   "source": []
  },
  {
   "cell_type": "code",
   "execution_count": 15,
   "id": "c87af4ce",
   "metadata": {
    "execution": {
     "iopub.execute_input": "2021-09-08T15:13:39.959734Z",
     "iopub.status.busy": "2021-09-08T15:13:39.959027Z",
     "iopub.status.idle": "2021-09-08T15:13:39.962023Z",
     "shell.execute_reply": "2021-09-08T15:13:39.961395Z",
     "shell.execute_reply.started": "2021-09-08T14:50:55.102917Z"
    },
    "papermill": {
     "duration": 0.041291,
     "end_time": "2021-09-08T15:13:39.962178",
     "exception": false,
     "start_time": "2021-09-08T15:13:39.920887",
     "status": "completed"
    },
    "tags": []
   },
   "outputs": [],
   "source": [
    "X=df.drop(\"stroke\",axis=1)\n",
    "y=df[\"stroke\"]"
   ]
  },
  {
   "cell_type": "markdown",
   "id": "128eb264",
   "metadata": {
    "papermill": {
     "duration": 0.029888,
     "end_time": "2021-09-08T15:13:40.022285",
     "exception": false,
     "start_time": "2021-09-08T15:13:39.992397",
     "status": "completed"
    },
    "tags": []
   },
   "source": [
    "## data is imbalanced:**"
   ]
  },
  {
   "cell_type": "code",
   "execution_count": 16,
   "id": "c0e91b89",
   "metadata": {
    "execution": {
     "iopub.execute_input": "2021-09-08T15:13:40.086095Z",
     "iopub.status.busy": "2021-09-08T15:13:40.085425Z",
     "iopub.status.idle": "2021-09-08T15:13:40.533433Z",
     "shell.execute_reply": "2021-09-08T15:13:40.534056Z",
     "shell.execute_reply.started": "2021-09-08T15:02:06.502640Z"
    },
    "papermill": {
     "duration": 0.481856,
     "end_time": "2021-09-08T15:13:40.534278",
     "exception": false,
     "start_time": "2021-09-08T15:13:40.052422",
     "status": "completed"
    },
    "tags": []
   },
   "outputs": [],
   "source": [
    "from imblearn.over_sampling import RandomOverSampler\n",
    "os=RandomOverSampler()"
   ]
  },
  {
   "cell_type": "code",
   "execution_count": 17,
   "id": "1634290a",
   "metadata": {
    "execution": {
     "iopub.execute_input": "2021-09-08T15:13:40.600828Z",
     "iopub.status.busy": "2021-09-08T15:13:40.599723Z",
     "iopub.status.idle": "2021-09-08T15:13:40.620205Z",
     "shell.execute_reply": "2021-09-08T15:13:40.620748Z",
     "shell.execute_reply.started": "2021-09-08T15:04:02.772633Z"
    },
    "papermill": {
     "duration": 0.055654,
     "end_time": "2021-09-08T15:13:40.620977",
     "exception": false,
     "start_time": "2021-09-08T15:13:40.565323",
     "status": "completed"
    },
    "tags": []
   },
   "outputs": [],
   "source": [
    "X,y=os.fit_resample(X,y)"
   ]
  },
  {
   "cell_type": "code",
   "execution_count": 18,
   "id": "cd41f6eb",
   "metadata": {
    "execution": {
     "iopub.execute_input": "2021-09-08T15:13:40.691607Z",
     "iopub.status.busy": "2021-09-08T15:13:40.690867Z",
     "iopub.status.idle": "2021-09-08T15:13:40.694541Z",
     "shell.execute_reply": "2021-09-08T15:13:40.694012Z",
     "shell.execute_reply.started": "2021-09-08T15:10:53.883405Z"
    },
    "papermill": {
     "duration": 0.042793,
     "end_time": "2021-09-08T15:13:40.694729",
     "exception": false,
     "start_time": "2021-09-08T15:13:40.651936",
     "status": "completed"
    },
    "tags": []
   },
   "outputs": [],
   "source": [
    "df1=pd.concat([X,y],axis=1)"
   ]
  },
  {
   "cell_type": "code",
   "execution_count": 19,
   "id": "8d4bc4d7",
   "metadata": {
    "execution": {
     "iopub.execute_input": "2021-09-08T15:13:40.763395Z",
     "iopub.status.busy": "2021-09-08T15:13:40.762194Z",
     "iopub.status.idle": "2021-09-08T15:13:40.788666Z",
     "shell.execute_reply": "2021-09-08T15:13:40.788030Z",
     "shell.execute_reply.started": "2021-09-08T15:10:54.533506Z"
    },
    "papermill": {
     "duration": 0.063725,
     "end_time": "2021-09-08T15:13:40.788838",
     "exception": false,
     "start_time": "2021-09-08T15:13:40.725113",
     "status": "completed"
    },
    "tags": []
   },
   "outputs": [
    {
     "data": {
      "text/html": [
       "<div>\n",
       "<style scoped>\n",
       "    .dataframe tbody tr th:only-of-type {\n",
       "        vertical-align: middle;\n",
       "    }\n",
       "\n",
       "    .dataframe tbody tr th {\n",
       "        vertical-align: top;\n",
       "    }\n",
       "\n",
       "    .dataframe thead th {\n",
       "        text-align: right;\n",
       "    }\n",
       "</style>\n",
       "<table border=\"1\" class=\"dataframe\">\n",
       "  <thead>\n",
       "    <tr style=\"text-align: right;\">\n",
       "      <th></th>\n",
       "      <th>gender</th>\n",
       "      <th>age</th>\n",
       "      <th>hypertension</th>\n",
       "      <th>heart_disease</th>\n",
       "      <th>ever_married</th>\n",
       "      <th>work_type</th>\n",
       "      <th>Residence_type</th>\n",
       "      <th>avg_glucose_level</th>\n",
       "      <th>bmi</th>\n",
       "      <th>smoking_status</th>\n",
       "      <th>stroke</th>\n",
       "    </tr>\n",
       "  </thead>\n",
       "  <tbody>\n",
       "    <tr>\n",
       "      <th>0</th>\n",
       "      <td>1</td>\n",
       "      <td>67.0</td>\n",
       "      <td>0</td>\n",
       "      <td>1</td>\n",
       "      <td>1</td>\n",
       "      <td>2</td>\n",
       "      <td>1</td>\n",
       "      <td>228.69</td>\n",
       "      <td>36.6</td>\n",
       "      <td>1</td>\n",
       "      <td>1</td>\n",
       "    </tr>\n",
       "    <tr>\n",
       "      <th>1</th>\n",
       "      <td>0</td>\n",
       "      <td>61.0</td>\n",
       "      <td>0</td>\n",
       "      <td>0</td>\n",
       "      <td>1</td>\n",
       "      <td>3</td>\n",
       "      <td>0</td>\n",
       "      <td>202.21</td>\n",
       "      <td>28.7</td>\n",
       "      <td>2</td>\n",
       "      <td>1</td>\n",
       "    </tr>\n",
       "    <tr>\n",
       "      <th>2</th>\n",
       "      <td>1</td>\n",
       "      <td>80.0</td>\n",
       "      <td>0</td>\n",
       "      <td>1</td>\n",
       "      <td>1</td>\n",
       "      <td>2</td>\n",
       "      <td>0</td>\n",
       "      <td>105.92</td>\n",
       "      <td>32.5</td>\n",
       "      <td>2</td>\n",
       "      <td>1</td>\n",
       "    </tr>\n",
       "    <tr>\n",
       "      <th>3</th>\n",
       "      <td>0</td>\n",
       "      <td>49.0</td>\n",
       "      <td>0</td>\n",
       "      <td>0</td>\n",
       "      <td>1</td>\n",
       "      <td>2</td>\n",
       "      <td>1</td>\n",
       "      <td>171.23</td>\n",
       "      <td>34.4</td>\n",
       "      <td>3</td>\n",
       "      <td>1</td>\n",
       "    </tr>\n",
       "    <tr>\n",
       "      <th>4</th>\n",
       "      <td>0</td>\n",
       "      <td>79.0</td>\n",
       "      <td>1</td>\n",
       "      <td>0</td>\n",
       "      <td>1</td>\n",
       "      <td>3</td>\n",
       "      <td>0</td>\n",
       "      <td>174.12</td>\n",
       "      <td>24.0</td>\n",
       "      <td>2</td>\n",
       "      <td>1</td>\n",
       "    </tr>\n",
       "    <tr>\n",
       "      <th>...</th>\n",
       "      <td>...</td>\n",
       "      <td>...</td>\n",
       "      <td>...</td>\n",
       "      <td>...</td>\n",
       "      <td>...</td>\n",
       "      <td>...</td>\n",
       "      <td>...</td>\n",
       "      <td>...</td>\n",
       "      <td>...</td>\n",
       "      <td>...</td>\n",
       "      <td>...</td>\n",
       "    </tr>\n",
       "    <tr>\n",
       "      <th>9715</th>\n",
       "      <td>1</td>\n",
       "      <td>78.0</td>\n",
       "      <td>0</td>\n",
       "      <td>0</td>\n",
       "      <td>1</td>\n",
       "      <td>3</td>\n",
       "      <td>1</td>\n",
       "      <td>116.10</td>\n",
       "      <td>27.1</td>\n",
       "      <td>2</td>\n",
       "      <td>1</td>\n",
       "    </tr>\n",
       "    <tr>\n",
       "      <th>9716</th>\n",
       "      <td>1</td>\n",
       "      <td>80.0</td>\n",
       "      <td>0</td>\n",
       "      <td>1</td>\n",
       "      <td>1</td>\n",
       "      <td>3</td>\n",
       "      <td>1</td>\n",
       "      <td>252.72</td>\n",
       "      <td>30.5</td>\n",
       "      <td>1</td>\n",
       "      <td>1</td>\n",
       "    </tr>\n",
       "    <tr>\n",
       "      <th>9717</th>\n",
       "      <td>0</td>\n",
       "      <td>71.0</td>\n",
       "      <td>0</td>\n",
       "      <td>0</td>\n",
       "      <td>1</td>\n",
       "      <td>3</td>\n",
       "      <td>1</td>\n",
       "      <td>195.71</td>\n",
       "      <td>34.1</td>\n",
       "      <td>1</td>\n",
       "      <td>1</td>\n",
       "    </tr>\n",
       "    <tr>\n",
       "      <th>9718</th>\n",
       "      <td>1</td>\n",
       "      <td>80.0</td>\n",
       "      <td>0</td>\n",
       "      <td>1</td>\n",
       "      <td>1</td>\n",
       "      <td>2</td>\n",
       "      <td>0</td>\n",
       "      <td>105.92</td>\n",
       "      <td>32.5</td>\n",
       "      <td>2</td>\n",
       "      <td>1</td>\n",
       "    </tr>\n",
       "    <tr>\n",
       "      <th>9719</th>\n",
       "      <td>1</td>\n",
       "      <td>59.0</td>\n",
       "      <td>0</td>\n",
       "      <td>0</td>\n",
       "      <td>1</td>\n",
       "      <td>2</td>\n",
       "      <td>0</td>\n",
       "      <td>211.78</td>\n",
       "      <td>28.7</td>\n",
       "      <td>1</td>\n",
       "      <td>1</td>\n",
       "    </tr>\n",
       "  </tbody>\n",
       "</table>\n",
       "<p>9720 rows × 11 columns</p>\n",
       "</div>"
      ],
      "text/plain": [
       "      gender   age  hypertension  heart_disease  ever_married  work_type  \\\n",
       "0          1  67.0             0              1             1          2   \n",
       "1          0  61.0             0              0             1          3   \n",
       "2          1  80.0             0              1             1          2   \n",
       "3          0  49.0             0              0             1          2   \n",
       "4          0  79.0             1              0             1          3   \n",
       "...      ...   ...           ...            ...           ...        ...   \n",
       "9715       1  78.0             0              0             1          3   \n",
       "9716       1  80.0             0              1             1          3   \n",
       "9717       0  71.0             0              0             1          3   \n",
       "9718       1  80.0             0              1             1          2   \n",
       "9719       1  59.0             0              0             1          2   \n",
       "\n",
       "      Residence_type  avg_glucose_level   bmi  smoking_status  stroke  \n",
       "0                  1             228.69  36.6               1       1  \n",
       "1                  0             202.21  28.7               2       1  \n",
       "2                  0             105.92  32.5               2       1  \n",
       "3                  1             171.23  34.4               3       1  \n",
       "4                  0             174.12  24.0               2       1  \n",
       "...              ...                ...   ...             ...     ...  \n",
       "9715               1             116.10  27.1               2       1  \n",
       "9716               1             252.72  30.5               1       1  \n",
       "9717               1             195.71  34.1               1       1  \n",
       "9718               0             105.92  32.5               2       1  \n",
       "9719               0             211.78  28.7               1       1  \n",
       "\n",
       "[9720 rows x 11 columns]"
      ]
     },
     "execution_count": 19,
     "metadata": {},
     "output_type": "execute_result"
    }
   ],
   "source": [
    "df1"
   ]
  },
  {
   "cell_type": "code",
   "execution_count": 20,
   "id": "9664aeac",
   "metadata": {
    "execution": {
     "iopub.execute_input": "2021-09-08T15:13:40.861401Z",
     "iopub.status.busy": "2021-09-08T15:13:40.860534Z",
     "iopub.status.idle": "2021-09-08T15:13:40.985019Z",
     "shell.execute_reply": "2021-09-08T15:13:40.984364Z",
     "shell.execute_reply.started": "2021-09-08T15:04:23.063180Z"
    },
    "papermill": {
     "duration": 0.165231,
     "end_time": "2021-09-08T15:13:40.985220",
     "exception": false,
     "start_time": "2021-09-08T15:13:40.819989",
     "status": "completed"
    },
    "tags": []
   },
   "outputs": [
    {
     "name": "stdout",
     "output_type": "stream",
     "text": [
      "              precision    recall  f1-score   support\n",
      "\n",
      "           0       1.00      0.86      0.93       970\n",
      "           1       0.88      1.00      0.94       974\n",
      "\n",
      "    accuracy                           0.93      1944\n",
      "   macro avg       0.94      0.93      0.93      1944\n",
      "weighted avg       0.94      0.93      0.93      1944\n",
      "\n"
     ]
    }
   ],
   "source": [
    "from sklearn.model_selection import train_test_split\n",
    "X_train,X_test,y_train,y_test=train_test_split(X,y,random_state=0,test_size=0.2)\n",
    "\n",
    "from sklearn import metrics\n",
    "\n",
    "from sklearn.neighbors import KNeighborsClassifier\n",
    "model1=KNeighborsClassifier()\n",
    "model1.fit(X_train,y_train)\n",
    "y_pred=model1.predict(X_test)\n",
    "print(metrics.classification_report(y_test,y_pred))"
   ]
  },
  {
   "cell_type": "code",
   "execution_count": 21,
   "id": "2c0799d4",
   "metadata": {
    "execution": {
     "iopub.execute_input": "2021-09-08T15:13:41.058589Z",
     "iopub.status.busy": "2021-09-08T15:13:41.057811Z",
     "iopub.status.idle": "2021-09-08T15:13:41.924535Z",
     "shell.execute_reply": "2021-09-08T15:13:41.923855Z",
     "shell.execute_reply.started": "2021-09-08T15:05:52.702093Z"
    },
    "papermill": {
     "duration": 0.906786,
     "end_time": "2021-09-08T15:13:41.924715",
     "exception": false,
     "start_time": "2021-09-08T15:13:41.017929",
     "status": "completed"
    },
    "tags": []
   },
   "outputs": [
    {
     "name": "stdout",
     "output_type": "stream",
     "text": [
      "              precision    recall  f1-score   support\n",
      "\n",
      "           0       1.00      0.99      0.99       970\n",
      "           1       0.99      1.00      0.99       974\n",
      "\n",
      "    accuracy                           0.99      1944\n",
      "   macro avg       0.99      0.99      0.99      1944\n",
      "weighted avg       0.99      0.99      0.99      1944\n",
      "\n"
     ]
    }
   ],
   "source": [
    "from sklearn.ensemble import RandomForestClassifier\n",
    "model1=RandomForestClassifier()\n",
    "model1.fit(X_train,y_train)\n",
    "y_pred=model1.predict(X_test)\n",
    "print(metrics.classification_report(y_test,y_pred))"
   ]
  },
  {
   "cell_type": "markdown",
   "id": "6b460b58",
   "metadata": {
    "papermill": {
     "duration": 0.032764,
     "end_time": "2021-09-08T15:13:41.990469",
     "exception": false,
     "start_time": "2021-09-08T15:13:41.957705",
     "status": "completed"
    },
    "tags": []
   },
   "source": [
    "## feature selection:"
   ]
  },
  {
   "cell_type": "code",
   "execution_count": 22,
   "id": "70085067",
   "metadata": {
    "execution": {
     "iopub.execute_input": "2021-09-08T15:13:42.062705Z",
     "iopub.status.busy": "2021-09-08T15:13:42.061807Z",
     "iopub.status.idle": "2021-09-08T15:13:42.853732Z",
     "shell.execute_reply": "2021-09-08T15:13:42.852957Z",
     "shell.execute_reply.started": "2021-09-08T15:07:01.453716Z"
    },
    "papermill": {
     "duration": 0.83,
     "end_time": "2021-09-08T15:13:42.853903",
     "exception": false,
     "start_time": "2021-09-08T15:13:42.023903",
     "status": "completed"
    },
    "tags": []
   },
   "outputs": [
    {
     "data": {
      "text/plain": [
       "array([0.        , 0.25914109, 0.02618319, 0.02173869, 0.0422236 ,\n",
       "       0.0426697 , 0.        , 0.50233388, 0.2218061 , 0.01641889])"
      ]
     },
     "execution_count": 22,
     "metadata": {},
     "output_type": "execute_result"
    }
   ],
   "source": [
    "from sklearn.feature_selection import mutual_info_classif\n",
    "mutual_info=mutual_info_classif(X_train,y_train)\n",
    "mutual_info"
   ]
  },
  {
   "cell_type": "code",
   "execution_count": 23,
   "id": "31f70ce0",
   "metadata": {
    "execution": {
     "iopub.execute_input": "2021-09-08T15:13:42.927401Z",
     "iopub.status.busy": "2021-09-08T15:13:42.926444Z",
     "iopub.status.idle": "2021-09-08T15:13:42.931192Z",
     "shell.execute_reply": "2021-09-08T15:13:42.930601Z",
     "shell.execute_reply.started": "2021-09-08T15:07:03.592198Z"
    },
    "papermill": {
     "duration": 0.045269,
     "end_time": "2021-09-08T15:13:42.931351",
     "exception": false,
     "start_time": "2021-09-08T15:13:42.886082",
     "status": "completed"
    },
    "tags": []
   },
   "outputs": [
    {
     "data": {
      "text/plain": [
       "avg_glucose_level    0.502334\n",
       "age                  0.259141\n",
       "bmi                  0.221806\n",
       "work_type            0.042670\n",
       "ever_married         0.042224\n",
       "hypertension         0.026183\n",
       "heart_disease        0.021739\n",
       "smoking_status       0.016419\n",
       "gender               0.000000\n",
       "Residence_type       0.000000\n",
       "dtype: float64"
      ]
     },
     "execution_count": 23,
     "metadata": {},
     "output_type": "execute_result"
    }
   ],
   "source": [
    "mutual_info=pd.Series(mutual_info)\n",
    "mutual_info.index=X_train.columns\n",
    "mutual_info.sort_values(ascending=False)"
   ]
  },
  {
   "cell_type": "code",
   "execution_count": 24,
   "id": "58f4ab53",
   "metadata": {
    "execution": {
     "iopub.execute_input": "2021-09-08T15:13:43.002406Z",
     "iopub.status.busy": "2021-09-08T15:13:43.001672Z",
     "iopub.status.idle": "2021-09-08T15:13:43.790017Z",
     "shell.execute_reply": "2021-09-08T15:13:43.789333Z",
     "shell.execute_reply.started": "2021-09-08T15:07:18.512940Z"
    },
    "papermill": {
     "duration": 0.826268,
     "end_time": "2021-09-08T15:13:43.790177",
     "exception": false,
     "start_time": "2021-09-08T15:13:42.963909",
     "status": "completed"
    },
    "tags": []
   },
   "outputs": [
    {
     "name": "stderr",
     "output_type": "stream",
     "text": [
      "/opt/conda/lib/python3.7/site-packages/sklearn/utils/validation.py:70: FutureWarning: Pass k=5 as keyword args. From version 0.25 passing these as positional arguments will result in an error\n",
      "  FutureWarning)\n"
     ]
    },
    {
     "data": {
      "text/plain": [
       "Index(['age', 'ever_married', 'work_type', 'avg_glucose_level', 'bmi'], dtype='object')"
      ]
     },
     "execution_count": 24,
     "metadata": {},
     "output_type": "execute_result"
    }
   ],
   "source": [
    "from sklearn.feature_selection import SelectKBest\n",
    "sel_5_cols=SelectKBest(mutual_info_classif,5)\n",
    "sel_5_cols.fit(X_train,y_train)\n",
    "X_train.columns[sel_5_cols.get_support()]"
   ]
  },
  {
   "cell_type": "code",
   "execution_count": 25,
   "id": "d2f618b2",
   "metadata": {
    "execution": {
     "iopub.execute_input": "2021-09-08T15:13:43.860861Z",
     "iopub.status.busy": "2021-09-08T15:13:43.859817Z",
     "iopub.status.idle": "2021-09-08T15:13:43.864738Z",
     "shell.execute_reply": "2021-09-08T15:13:43.865325Z",
     "shell.execute_reply.started": "2021-09-08T15:07:53.582254Z"
    },
    "papermill": {
     "duration": 0.042462,
     "end_time": "2021-09-08T15:13:43.865530",
     "exception": false,
     "start_time": "2021-09-08T15:13:43.823068",
     "status": "completed"
    },
    "tags": []
   },
   "outputs": [],
   "source": [
    "cols=['age', 'ever_married', 'work_type', 'avg_glucose_level', 'bmi','stroke']"
   ]
  },
  {
   "cell_type": "code",
   "execution_count": 26,
   "id": "0ce66d85",
   "metadata": {
    "execution": {
     "iopub.execute_input": "2021-09-08T15:13:43.939620Z",
     "iopub.status.busy": "2021-09-08T15:13:43.938907Z",
     "iopub.status.idle": "2021-09-08T15:13:43.958961Z",
     "shell.execute_reply": "2021-09-08T15:13:43.959555Z",
     "shell.execute_reply.started": "2021-09-08T15:11:49.374169Z"
    },
    "papermill": {
     "duration": 0.059888,
     "end_time": "2021-09-08T15:13:43.959777",
     "exception": false,
     "start_time": "2021-09-08T15:13:43.899889",
     "status": "completed"
    },
    "tags": []
   },
   "outputs": [
    {
     "data": {
      "text/html": [
       "<div>\n",
       "<style scoped>\n",
       "    .dataframe tbody tr th:only-of-type {\n",
       "        vertical-align: middle;\n",
       "    }\n",
       "\n",
       "    .dataframe tbody tr th {\n",
       "        vertical-align: top;\n",
       "    }\n",
       "\n",
       "    .dataframe thead th {\n",
       "        text-align: right;\n",
       "    }\n",
       "</style>\n",
       "<table border=\"1\" class=\"dataframe\">\n",
       "  <thead>\n",
       "    <tr style=\"text-align: right;\">\n",
       "      <th></th>\n",
       "      <th>age</th>\n",
       "      <th>ever_married</th>\n",
       "      <th>work_type</th>\n",
       "      <th>avg_glucose_level</th>\n",
       "      <th>bmi</th>\n",
       "      <th>stroke</th>\n",
       "    </tr>\n",
       "  </thead>\n",
       "  <tbody>\n",
       "    <tr>\n",
       "      <th>0</th>\n",
       "      <td>67.0</td>\n",
       "      <td>1</td>\n",
       "      <td>2</td>\n",
       "      <td>228.69</td>\n",
       "      <td>36.6</td>\n",
       "      <td>1</td>\n",
       "    </tr>\n",
       "    <tr>\n",
       "      <th>1</th>\n",
       "      <td>61.0</td>\n",
       "      <td>1</td>\n",
       "      <td>3</td>\n",
       "      <td>202.21</td>\n",
       "      <td>28.7</td>\n",
       "      <td>1</td>\n",
       "    </tr>\n",
       "    <tr>\n",
       "      <th>2</th>\n",
       "      <td>80.0</td>\n",
       "      <td>1</td>\n",
       "      <td>2</td>\n",
       "      <td>105.92</td>\n",
       "      <td>32.5</td>\n",
       "      <td>1</td>\n",
       "    </tr>\n",
       "    <tr>\n",
       "      <th>3</th>\n",
       "      <td>49.0</td>\n",
       "      <td>1</td>\n",
       "      <td>2</td>\n",
       "      <td>171.23</td>\n",
       "      <td>34.4</td>\n",
       "      <td>1</td>\n",
       "    </tr>\n",
       "    <tr>\n",
       "      <th>4</th>\n",
       "      <td>79.0</td>\n",
       "      <td>1</td>\n",
       "      <td>3</td>\n",
       "      <td>174.12</td>\n",
       "      <td>24.0</td>\n",
       "      <td>1</td>\n",
       "    </tr>\n",
       "    <tr>\n",
       "      <th>...</th>\n",
       "      <td>...</td>\n",
       "      <td>...</td>\n",
       "      <td>...</td>\n",
       "      <td>...</td>\n",
       "      <td>...</td>\n",
       "      <td>...</td>\n",
       "    </tr>\n",
       "    <tr>\n",
       "      <th>9715</th>\n",
       "      <td>78.0</td>\n",
       "      <td>1</td>\n",
       "      <td>3</td>\n",
       "      <td>116.10</td>\n",
       "      <td>27.1</td>\n",
       "      <td>1</td>\n",
       "    </tr>\n",
       "    <tr>\n",
       "      <th>9716</th>\n",
       "      <td>80.0</td>\n",
       "      <td>1</td>\n",
       "      <td>3</td>\n",
       "      <td>252.72</td>\n",
       "      <td>30.5</td>\n",
       "      <td>1</td>\n",
       "    </tr>\n",
       "    <tr>\n",
       "      <th>9717</th>\n",
       "      <td>71.0</td>\n",
       "      <td>1</td>\n",
       "      <td>3</td>\n",
       "      <td>195.71</td>\n",
       "      <td>34.1</td>\n",
       "      <td>1</td>\n",
       "    </tr>\n",
       "    <tr>\n",
       "      <th>9718</th>\n",
       "      <td>80.0</td>\n",
       "      <td>1</td>\n",
       "      <td>2</td>\n",
       "      <td>105.92</td>\n",
       "      <td>32.5</td>\n",
       "      <td>1</td>\n",
       "    </tr>\n",
       "    <tr>\n",
       "      <th>9719</th>\n",
       "      <td>59.0</td>\n",
       "      <td>1</td>\n",
       "      <td>2</td>\n",
       "      <td>211.78</td>\n",
       "      <td>28.7</td>\n",
       "      <td>1</td>\n",
       "    </tr>\n",
       "  </tbody>\n",
       "</table>\n",
       "<p>9720 rows × 6 columns</p>\n",
       "</div>"
      ],
      "text/plain": [
       "       age  ever_married  work_type  avg_glucose_level   bmi  stroke\n",
       "0     67.0             1          2             228.69  36.6       1\n",
       "1     61.0             1          3             202.21  28.7       1\n",
       "2     80.0             1          2             105.92  32.5       1\n",
       "3     49.0             1          2             171.23  34.4       1\n",
       "4     79.0             1          3             174.12  24.0       1\n",
       "...    ...           ...        ...                ...   ...     ...\n",
       "9715  78.0             1          3             116.10  27.1       1\n",
       "9716  80.0             1          3             252.72  30.5       1\n",
       "9717  71.0             1          3             195.71  34.1       1\n",
       "9718  80.0             1          2             105.92  32.5       1\n",
       "9719  59.0             1          2             211.78  28.7       1\n",
       "\n",
       "[9720 rows x 6 columns]"
      ]
     },
     "execution_count": 26,
     "metadata": {},
     "output_type": "execute_result"
    }
   ],
   "source": [
    "df2=df1[cols]\n",
    "df2"
   ]
  },
  {
   "cell_type": "code",
   "execution_count": 27,
   "id": "46da75dd",
   "metadata": {
    "execution": {
     "iopub.execute_input": "2021-09-08T15:13:44.029390Z",
     "iopub.status.busy": "2021-09-08T15:13:44.028721Z",
     "iopub.status.idle": "2021-09-08T15:13:44.034297Z",
     "shell.execute_reply": "2021-09-08T15:13:44.034849Z",
     "shell.execute_reply.started": "2021-09-08T15:12:32.123766Z"
    },
    "papermill": {
     "duration": 0.042169,
     "end_time": "2021-09-08T15:13:44.035049",
     "exception": false,
     "start_time": "2021-09-08T15:13:43.992880",
     "status": "completed"
    },
    "tags": []
   },
   "outputs": [],
   "source": [
    "X=df1.drop(\"stroke\",axis=1)\n",
    "y=df1[\"stroke\"]"
   ]
  },
  {
   "cell_type": "code",
   "execution_count": 28,
   "id": "f5a10682",
   "metadata": {
    "execution": {
     "iopub.execute_input": "2021-09-08T15:13:44.105155Z",
     "iopub.status.busy": "2021-09-08T15:13:44.104443Z",
     "iopub.status.idle": "2021-09-08T15:13:44.223112Z",
     "shell.execute_reply": "2021-09-08T15:13:44.222397Z",
     "shell.execute_reply.started": "2021-09-08T15:12:51.323154Z"
    },
    "papermill": {
     "duration": 0.154845,
     "end_time": "2021-09-08T15:13:44.223284",
     "exception": false,
     "start_time": "2021-09-08T15:13:44.068439",
     "status": "completed"
    },
    "tags": []
   },
   "outputs": [
    {
     "name": "stdout",
     "output_type": "stream",
     "text": [
      "              precision    recall  f1-score   support\n",
      "\n",
      "           0       1.00      0.86      0.93       970\n",
      "           1       0.88      1.00      0.94       974\n",
      "\n",
      "    accuracy                           0.93      1944\n",
      "   macro avg       0.94      0.93      0.93      1944\n",
      "weighted avg       0.94      0.93      0.93      1944\n",
      "\n"
     ]
    }
   ],
   "source": [
    "from sklearn.model_selection import train_test_split\n",
    "X_train,X_test,y_train,y_test=train_test_split(X,y,random_state=0,test_size=0.2)\n",
    "\n",
    "from sklearn import metrics\n",
    "\n",
    "from sklearn.neighbors import KNeighborsClassifier\n",
    "model1=KNeighborsClassifier()\n",
    "model1.fit(X_train,y_train)\n",
    "y_pred=model1.predict(X_test)\n",
    "print(metrics.classification_report(y_test,y_pred))"
   ]
  },
  {
   "cell_type": "code",
   "execution_count": 29,
   "id": "d21de3fb",
   "metadata": {
    "execution": {
     "iopub.execute_input": "2021-09-08T15:13:44.300399Z",
     "iopub.status.busy": "2021-09-08T15:13:44.299591Z",
     "iopub.status.idle": "2021-09-08T15:13:45.109400Z",
     "shell.execute_reply": "2021-09-08T15:13:45.110164Z",
     "shell.execute_reply.started": "2021-09-08T15:13:05.493229Z"
    },
    "papermill": {
     "duration": 0.852154,
     "end_time": "2021-09-08T15:13:45.110406",
     "exception": false,
     "start_time": "2021-09-08T15:13:44.258252",
     "status": "completed"
    },
    "tags": []
   },
   "outputs": [
    {
     "name": "stdout",
     "output_type": "stream",
     "text": [
      "              precision    recall  f1-score   support\n",
      "\n",
      "           0       1.00      0.99      0.99       970\n",
      "           1       0.99      1.00      0.99       974\n",
      "\n",
      "    accuracy                           0.99      1944\n",
      "   macro avg       0.99      0.99      0.99      1944\n",
      "weighted avg       0.99      0.99      0.99      1944\n",
      "\n"
     ]
    }
   ],
   "source": [
    "from sklearn.ensemble import RandomForestClassifier\n",
    "model1=RandomForestClassifier()\n",
    "model1.fit(X_train,y_train)\n",
    "y_pred=model1.predict(X_test)\n",
    "print(metrics.classification_report(y_test,y_pred))"
   ]
  },
  {
   "cell_type": "code",
   "execution_count": null,
   "id": "b71b228e",
   "metadata": {
    "papermill": {
     "duration": 0.033621,
     "end_time": "2021-09-08T15:13:45.178983",
     "exception": false,
     "start_time": "2021-09-08T15:13:45.145362",
     "status": "completed"
    },
    "tags": []
   },
   "outputs": [],
   "source": []
  }
 ],
 "metadata": {
  "kernelspec": {
   "display_name": "Python 3",
   "language": "python",
   "name": "python3"
  },
  "language_info": {
   "codemirror_mode": {
    "name": "ipython",
    "version": 3
   },
   "file_extension": ".py",
   "mimetype": "text/x-python",
   "name": "python",
   "nbconvert_exporter": "python",
   "pygments_lexer": "ipython3",
   "version": "3.7.10"
  },
  "papermill": {
   "default_parameters": {},
   "duration": 17.924006,
   "end_time": "2021-09-08T15:13:46.225672",
   "environment_variables": {},
   "exception": null,
   "input_path": "__notebook__.ipynb",
   "output_path": "__notebook__.ipynb",
   "parameters": {},
   "start_time": "2021-09-08T15:13:28.301666",
   "version": "2.3.3"
  }
 },
 "nbformat": 4,
 "nbformat_minor": 5
}
